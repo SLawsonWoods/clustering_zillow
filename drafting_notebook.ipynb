{
 "cells": [
  {
   "cell_type": "code",
   "execution_count": 1,
   "id": "519cc74e",
   "metadata": {},
   "outputs": [],
   "source": [
    "# ignore warnings\n",
    "import warnings\n",
    "warnings.filterwarnings(\"ignore\")\n",
    "\n",
    "# Wrangling\n",
    "import pandas as pd\n",
    "import numpy as np\n",
    "import os\n",
    "from sklearn.impute import SimpleImputer\n",
    "from sklearn.model_selection import train_test_split\n",
    "\n",
    "# Exploring\n",
    "import scipy.stats as stats\n",
    "from sklearn.cluster import KMeans\n",
    "from sklearn.preprocessing import StandardScaler\n",
    "from sklearn.preprocessing import MinMaxScaler\n",
    "from sklearn.linear_model import LinearRegression\n",
    "from sklearn.feature_selection import RFE\n",
    "from sklearn.metrics import mean_squared_error\n",
    "from sklearn.preprocessing import PolynomialFeatures\n",
    "from sklearn.feature_selection import RFE\n",
    "\n",
    "# Modeling\n",
    "from sklearn.linear_model import LinearRegression, LassoLars, TweedieRegressor\n",
    "\n",
    "\n",
    "# Visualizing\n",
    "%matplotlib inline\n",
    "import matplotlib.pyplot as plt\n",
    "import seaborn as sns\n",
    "\n",
    "# default pandas decimal number display format\n",
    "pd.options.display.float_format = '{:20,.2f}'.format\n",
    "\n",
    "import math \n",
    "import wrangle_functions\n",
    "import env\n",
    "import acquire\n",
    "import prepare"
   ]
  },
  {
   "cell_type": "code",
   "execution_count": 2,
   "id": "ad3d45ce",
   "metadata": {},
   "outputs": [],
   "source": [
    "############################################################################### ACQUIRE"
   ]
  },
  {
   "cell_type": "code",
   "execution_count": 3,
   "id": "ff6fb4ac",
   "metadata": {},
   "outputs": [],
   "source": [
    "# use zillow;\n",
    "# from acquire.py\n",
    "\n",
    "def new_zillow_data():\n",
    "    df = pd.read_sql('''SELECT *\n",
    "    FROM properties_2017\n",
    "    LEFT OUTER JOIN airconditioningtype \n",
    "    USING(airconditioningtypeid) \n",
    "    LEFT OUTER JOIN architecturalstyletype\n",
    "    USING(architecturalstyletypeid) \n",
    "    LEFT OUTER JOIN buildingclasstype \n",
    "    USING(buildingclasstypeid) \n",
    "    LEFT OUTER JOIN heatingorsystemtype\n",
    "    USING(heatingorsystemtypeid) \n",
    "    LEFT OUTER JOIN predictions_2017\n",
    "    ON predictions_2017.id = properties_2017.id\n",
    "    INNER JOIN (\n",
    "    SELECT id, MAX(transactiondate) as last_trans_date \n",
    "    FROM predictions_2017\n",
    "    GROUP BY id\n",
    "    ) predictions ON predictions.id = properties_2017.id AND predictions_2017.transactiondate = predictions.last_trans_date\n",
    "    LEFT OUTER JOIN propertylandusetype\n",
    "    USING(propertylandusetypeid)\n",
    "      LEFT OUTER JOIN storytype\n",
    "    USING(storytypeid)\n",
    "    LEFT OUTER JOIN typeconstructiontype\n",
    "    USING(typeconstructiontypeid)\n",
    "    JOIN unique_properties\n",
    "      ON unique_properties.parcelid = properties_2017.parcelid\n",
    "    WHERE latitude IS NOT NULL and longitude IS NOT NULL;''', acquire.get_connection('zillow'))\n",
    "    return df"
   ]
  },
  {
   "cell_type": "code",
   "execution_count": 4,
   "id": "1193e5c6",
   "metadata": {},
   "outputs": [],
   "source": [
    "df = new_zillow_data()"
   ]
  },
  {
   "cell_type": "code",
   "execution_count": 5,
   "id": "61cc38b4",
   "metadata": {},
   "outputs": [
    {
     "data": {
      "text/html": [
       "<div>\n",
       "<style scoped>\n",
       "    .dataframe tbody tr th:only-of-type {\n",
       "        vertical-align: middle;\n",
       "    }\n",
       "\n",
       "    .dataframe tbody tr th {\n",
       "        vertical-align: top;\n",
       "    }\n",
       "\n",
       "    .dataframe thead th {\n",
       "        text-align: right;\n",
       "    }\n",
       "</style>\n",
       "<table border=\"1\" class=\"dataframe\">\n",
       "  <thead>\n",
       "    <tr style=\"text-align: right;\">\n",
       "      <th></th>\n",
       "      <th>typeconstructiontypeid</th>\n",
       "      <th>storytypeid</th>\n",
       "      <th>propertylandusetypeid</th>\n",
       "      <th>heatingorsystemtypeid</th>\n",
       "      <th>buildingclasstypeid</th>\n",
       "      <th>architecturalstyletypeid</th>\n",
       "      <th>airconditioningtypeid</th>\n",
       "      <th>id</th>\n",
       "      <th>parcelid</th>\n",
       "      <th>basementsqft</th>\n",
       "      <th>...</th>\n",
       "      <th>id</th>\n",
       "      <th>parcelid</th>\n",
       "      <th>logerror</th>\n",
       "      <th>transactiondate</th>\n",
       "      <th>id</th>\n",
       "      <th>last_trans_date</th>\n",
       "      <th>propertylandusedesc</th>\n",
       "      <th>storydesc</th>\n",
       "      <th>typeconstructiondesc</th>\n",
       "      <th>parcelid</th>\n",
       "    </tr>\n",
       "  </thead>\n",
       "  <tbody>\n",
       "    <tr>\n",
       "      <th>0</th>\n",
       "      <td>NaN</td>\n",
       "      <td>NaN</td>\n",
       "      <td>269.00</td>\n",
       "      <td>NaN</td>\n",
       "      <td>NaN</td>\n",
       "      <td>NaN</td>\n",
       "      <td>NaN</td>\n",
       "      <td>0</td>\n",
       "      <td>10754147</td>\n",
       "      <td>NaN</td>\n",
       "      <td>...</td>\n",
       "      <td>0</td>\n",
       "      <td>14297519</td>\n",
       "      <td>0.03</td>\n",
       "      <td>2017-01-01</td>\n",
       "      <td>0</td>\n",
       "      <td>2017-01-01</td>\n",
       "      <td>Planned Unit Development</td>\n",
       "      <td>None</td>\n",
       "      <td>None</td>\n",
       "      <td>10754147</td>\n",
       "    </tr>\n",
       "    <tr>\n",
       "      <th>1</th>\n",
       "      <td>NaN</td>\n",
       "      <td>NaN</td>\n",
       "      <td>261.00</td>\n",
       "      <td>NaN</td>\n",
       "      <td>NaN</td>\n",
       "      <td>NaN</td>\n",
       "      <td>NaN</td>\n",
       "      <td>1</td>\n",
       "      <td>10759547</td>\n",
       "      <td>NaN</td>\n",
       "      <td>...</td>\n",
       "      <td>1</td>\n",
       "      <td>17052889</td>\n",
       "      <td>0.06</td>\n",
       "      <td>2017-01-01</td>\n",
       "      <td>1</td>\n",
       "      <td>2017-01-01</td>\n",
       "      <td>Single Family Residential</td>\n",
       "      <td>None</td>\n",
       "      <td>None</td>\n",
       "      <td>10759547</td>\n",
       "    </tr>\n",
       "    <tr>\n",
       "      <th>2</th>\n",
       "      <td>NaN</td>\n",
       "      <td>NaN</td>\n",
       "      <td>47.00</td>\n",
       "      <td>NaN</td>\n",
       "      <td>5.00</td>\n",
       "      <td>NaN</td>\n",
       "      <td>NaN</td>\n",
       "      <td>2</td>\n",
       "      <td>10843547</td>\n",
       "      <td>NaN</td>\n",
       "      <td>...</td>\n",
       "      <td>2</td>\n",
       "      <td>14186244</td>\n",
       "      <td>0.01</td>\n",
       "      <td>2017-01-01</td>\n",
       "      <td>2</td>\n",
       "      <td>2017-01-01</td>\n",
       "      <td>Store/Office (Mixed Use)</td>\n",
       "      <td>None</td>\n",
       "      <td>None</td>\n",
       "      <td>10843547</td>\n",
       "    </tr>\n",
       "    <tr>\n",
       "      <th>3</th>\n",
       "      <td>NaN</td>\n",
       "      <td>NaN</td>\n",
       "      <td>47.00</td>\n",
       "      <td>NaN</td>\n",
       "      <td>3.00</td>\n",
       "      <td>NaN</td>\n",
       "      <td>NaN</td>\n",
       "      <td>3</td>\n",
       "      <td>10859147</td>\n",
       "      <td>NaN</td>\n",
       "      <td>...</td>\n",
       "      <td>3</td>\n",
       "      <td>12177905</td>\n",
       "      <td>-0.10</td>\n",
       "      <td>2017-01-01</td>\n",
       "      <td>3</td>\n",
       "      <td>2017-01-01</td>\n",
       "      <td>Store/Office (Mixed Use)</td>\n",
       "      <td>None</td>\n",
       "      <td>None</td>\n",
       "      <td>10859147</td>\n",
       "    </tr>\n",
       "    <tr>\n",
       "      <th>4</th>\n",
       "      <td>NaN</td>\n",
       "      <td>NaN</td>\n",
       "      <td>31.00</td>\n",
       "      <td>NaN</td>\n",
       "      <td>4.00</td>\n",
       "      <td>NaN</td>\n",
       "      <td>NaN</td>\n",
       "      <td>4</td>\n",
       "      <td>10879947</td>\n",
       "      <td>NaN</td>\n",
       "      <td>...</td>\n",
       "      <td>4</td>\n",
       "      <td>10887214</td>\n",
       "      <td>0.01</td>\n",
       "      <td>2017-01-01</td>\n",
       "      <td>4</td>\n",
       "      <td>2017-01-01</td>\n",
       "      <td>Commercial/Office/Residential Mixed Used</td>\n",
       "      <td>None</td>\n",
       "      <td>None</td>\n",
       "      <td>10879947</td>\n",
       "    </tr>\n",
       "  </tbody>\n",
       "</table>\n",
       "<p>5 rows × 73 columns</p>\n",
       "</div>"
      ],
      "text/plain": [
       "   typeconstructiontypeid  storytypeid  propertylandusetypeid  \\\n",
       "0                     NaN          NaN                 269.00   \n",
       "1                     NaN          NaN                 261.00   \n",
       "2                     NaN          NaN                  47.00   \n",
       "3                     NaN          NaN                  47.00   \n",
       "4                     NaN          NaN                  31.00   \n",
       "\n",
       "   heatingorsystemtypeid  buildingclasstypeid  architecturalstyletypeid  \\\n",
       "0                    NaN                  NaN                       NaN   \n",
       "1                    NaN                  NaN                       NaN   \n",
       "2                    NaN                 5.00                       NaN   \n",
       "3                    NaN                 3.00                       NaN   \n",
       "4                    NaN                 4.00                       NaN   \n",
       "\n",
       "   airconditioningtypeid  id  parcelid  basementsqft  ...  id  parcelid  \\\n",
       "0                    NaN   0  10754147           NaN  ...   0  14297519   \n",
       "1                    NaN   1  10759547           NaN  ...   1  17052889   \n",
       "2                    NaN   2  10843547           NaN  ...   2  14186244   \n",
       "3                    NaN   3  10859147           NaN  ...   3  12177905   \n",
       "4                    NaN   4  10879947           NaN  ...   4  10887214   \n",
       "\n",
       "              logerror  transactiondate  id  last_trans_date  \\\n",
       "0                 0.03       2017-01-01   0       2017-01-01   \n",
       "1                 0.06       2017-01-01   1       2017-01-01   \n",
       "2                 0.01       2017-01-01   2       2017-01-01   \n",
       "3                -0.10       2017-01-01   3       2017-01-01   \n",
       "4                 0.01       2017-01-01   4       2017-01-01   \n",
       "\n",
       "                        propertylandusedesc  storydesc  typeconstructiondesc  \\\n",
       "0                  Planned Unit Development       None                  None   \n",
       "1                 Single Family Residential       None                  None   \n",
       "2                  Store/Office (Mixed Use)       None                  None   \n",
       "3                  Store/Office (Mixed Use)       None                  None   \n",
       "4  Commercial/Office/Residential Mixed Used       None                  None   \n",
       "\n",
       "   parcelid  \n",
       "0  10754147  \n",
       "1  10759547  \n",
       "2  10843547  \n",
       "3  10859147  \n",
       "4  10879947  \n",
       "\n",
       "[5 rows x 73 columns]"
      ]
     },
     "execution_count": 5,
     "metadata": {},
     "output_type": "execute_result"
    }
   ],
   "source": [
    "df.head()"
   ]
  },
  {
   "cell_type": "code",
   "execution_count": 6,
   "id": "ccbfcd79",
   "metadata": {},
   "outputs": [
    {
     "name": "stdout",
     "output_type": "stream",
     "text": [
      "<class 'pandas.core.frame.DataFrame'>\n",
      "RangeIndex: 77614 entries, 0 to 77613\n",
      "Data columns (total 73 columns):\n",
      " #   Column                        Non-Null Count  Dtype  \n",
      "---  ------                        --------------  -----  \n",
      " 0   typeconstructiontypeid        166 non-null    float64\n",
      " 1   storytypeid                   45 non-null     float64\n",
      " 2   propertylandusetypeid         77614 non-null  float64\n",
      " 3   heatingorsystemtypeid         48475 non-null  float64\n",
      " 4   buildingclasstypeid           383 non-null    float64\n",
      " 5   architecturalstyletypeid      151 non-null    float64\n",
      " 6   airconditioningtypeid         21457 non-null  float64\n",
      " 7   id                            77614 non-null  int64  \n",
      " 8   parcelid                      77614 non-null  int64  \n",
      " 9   basementsqft                  45 non-null     float64\n",
      " 10  bathroomcnt                   77614 non-null  float64\n",
      " 11  bedroomcnt                    77614 non-null  float64\n",
      " 12  buildingqualitytypeid         50322 non-null  float64\n",
      " 13  calculatedbathnbr             74391 non-null  float64\n",
      " 14  decktypeid                    513 non-null    float64\n",
      " 15  finishedfloor1squarefeet      5973 non-null   float64\n",
      " 16  calculatedfinishedsquarefeet  76502 non-null  float64\n",
      " 17  finishedsquarefeet12          70964 non-null  float64\n",
      " 18  finishedsquarefeet13          235 non-null    float64\n",
      " 19  finishedsquarefeet15          4758 non-null   float64\n",
      " 20  finishedsquarefeet50          5973 non-null   float64\n",
      " 21  finishedsquarefeet6           545 non-null    float64\n",
      " 22  fips                          77614 non-null  float64\n",
      " 23  fireplacecnt                  8412 non-null   float64\n",
      " 24  fullbathcnt                   74391 non-null  float64\n",
      " 25  garagecarcnt                  23300 non-null  float64\n",
      " 26  garagetotalsqft               23300 non-null  float64\n",
      " 27  hashottuborspa                1258 non-null   float64\n",
      " 28  latitude                      77614 non-null  float64\n",
      " 29  longitude                     77614 non-null  float64\n",
      " 30  lotsizesquarefeet             70535 non-null  float64\n",
      " 31  poolcnt                       14261 non-null  float64\n",
      " 32  poolsizesum                   777 non-null    float64\n",
      " 33  pooltypeid10                  424 non-null    float64\n",
      " 34  pooltypeid2                   834 non-null    float64\n",
      " 35  pooltypeid7                   13409 non-null  float64\n",
      " 36  propertycountylandusecode     77613 non-null  object \n",
      " 37  propertyzoningdesc            51362 non-null  object \n",
      " 38  rawcensustractandblock        77614 non-null  float64\n",
      " 39  regionidcity                  76088 non-null  float64\n",
      " 40  regionidcounty                77614 non-null  float64\n",
      " 41  regionidneighborhood          30512 non-null  float64\n",
      " 42  regionidzip                   77339 non-null  float64\n",
      " 43  roomcnt                       77613 non-null  float64\n",
      " 44  threequarterbathnbr           8204 non-null   float64\n",
      " 45  unitcnt                       51290 non-null  float64\n",
      " 46  yardbuildingsqft17            2423 non-null   float64\n",
      " 47  yardbuildingsqft26            66 non-null     float64\n",
      " 48  yearbuilt                     76444 non-null  float64\n",
      " 49  numberofstories               18119 non-null  float64\n",
      " 50  fireplaceflag                 125 non-null    float64\n",
      " 51  structuretaxvaluedollarcnt    76349 non-null  float64\n",
      " 52  taxvaluedollarcnt             76689 non-null  float64\n",
      " 53  assessmentyear                77614 non-null  float64\n",
      " 54  landtaxvaluedollarcnt         76003 non-null  float64\n",
      " 55  taxamount                     77103 non-null  float64\n",
      " 56  taxdelinquencyflag            1505 non-null   object \n",
      " 57  taxdelinquencyyear            1505 non-null   float64\n",
      " 58  censustractandblock           75519 non-null  float64\n",
      " 59  airconditioningdesc           21457 non-null  object \n",
      " 60  architecturalstyledesc        151 non-null    object \n",
      " 61  buildingclassdesc             383 non-null    object \n",
      " 62  heatingorsystemdesc           48475 non-null  object \n",
      " 63  id                            77614 non-null  int64  \n",
      " 64  parcelid                      77614 non-null  int64  \n",
      " 65  logerror                      77614 non-null  float64\n",
      " 66  transactiondate               77614 non-null  object \n",
      " 67  id                            77614 non-null  int64  \n",
      " 68  last_trans_date               77614 non-null  object \n",
      " 69  propertylandusedesc           77614 non-null  object \n",
      " 70  storydesc                     45 non-null     object \n",
      " 71  typeconstructiondesc          166 non-null    object \n",
      " 72  parcelid                      77614 non-null  int64  \n",
      "dtypes: float64(55), int64(6), object(12)\n",
      "memory usage: 43.2+ MB\n"
     ]
    }
   ],
   "source": [
    "df.info()"
   ]
  },
  {
   "cell_type": "code",
   "execution_count": 7,
   "id": "c2d3ae69",
   "metadata": {},
   "outputs": [
    {
     "data": {
      "text/html": [
       "<div>\n",
       "<style scoped>\n",
       "    .dataframe tbody tr th:only-of-type {\n",
       "        vertical-align: middle;\n",
       "    }\n",
       "\n",
       "    .dataframe tbody tr th {\n",
       "        vertical-align: top;\n",
       "    }\n",
       "\n",
       "    .dataframe thead th {\n",
       "        text-align: right;\n",
       "    }\n",
       "</style>\n",
       "<table border=\"1\" class=\"dataframe\">\n",
       "  <thead>\n",
       "    <tr style=\"text-align: right;\">\n",
       "      <th></th>\n",
       "      <th>typeconstructiontypeid</th>\n",
       "      <th>storytypeid</th>\n",
       "      <th>propertylandusetypeid</th>\n",
       "      <th>heatingorsystemtypeid</th>\n",
       "      <th>buildingclasstypeid</th>\n",
       "      <th>architecturalstyletypeid</th>\n",
       "      <th>airconditioningtypeid</th>\n",
       "      <th>id</th>\n",
       "      <th>parcelid</th>\n",
       "      <th>basementsqft</th>\n",
       "      <th>...</th>\n",
       "      <th>assessmentyear</th>\n",
       "      <th>landtaxvaluedollarcnt</th>\n",
       "      <th>taxamount</th>\n",
       "      <th>taxdelinquencyyear</th>\n",
       "      <th>censustractandblock</th>\n",
       "      <th>id</th>\n",
       "      <th>parcelid</th>\n",
       "      <th>logerror</th>\n",
       "      <th>id</th>\n",
       "      <th>parcelid</th>\n",
       "    </tr>\n",
       "  </thead>\n",
       "  <tbody>\n",
       "    <tr>\n",
       "      <th>count</th>\n",
       "      <td>166.00</td>\n",
       "      <td>45.00</td>\n",
       "      <td>77,614.00</td>\n",
       "      <td>48,475.00</td>\n",
       "      <td>383.00</td>\n",
       "      <td>151.00</td>\n",
       "      <td>21,457.00</td>\n",
       "      <td>77,614.00</td>\n",
       "      <td>77,614.00</td>\n",
       "      <td>45.00</td>\n",
       "      <td>...</td>\n",
       "      <td>77,614.00</td>\n",
       "      <td>76,003.00</td>\n",
       "      <td>77,103.00</td>\n",
       "      <td>1,505.00</td>\n",
       "      <td>75,519.00</td>\n",
       "      <td>77,614.00</td>\n",
       "      <td>77,614.00</td>\n",
       "      <td>77,614.00</td>\n",
       "      <td>77,614.00</td>\n",
       "      <td>77,614.00</td>\n",
       "    </tr>\n",
       "    <tr>\n",
       "      <th>mean</th>\n",
       "      <td>5.99</td>\n",
       "      <td>7.00</td>\n",
       "      <td>259.94</td>\n",
       "      <td>4.04</td>\n",
       "      <td>3.78</td>\n",
       "      <td>7.43</td>\n",
       "      <td>1.93</td>\n",
       "      <td>38,806.50</td>\n",
       "      <td>13,379,428.47</td>\n",
       "      <td>593.13</td>\n",
       "      <td>...</td>\n",
       "      <td>2,016.00</td>\n",
       "      <td>265,047.58</td>\n",
       "      <td>5,371.52</td>\n",
       "      <td>13.91</td>\n",
       "      <td>60,489,761,355,119.06</td>\n",
       "      <td>38,806.50</td>\n",
       "      <td>13,007,807.98</td>\n",
       "      <td>0.02</td>\n",
       "      <td>38,806.50</td>\n",
       "      <td>13,379,428.47</td>\n",
       "    </tr>\n",
       "    <tr>\n",
       "      <th>std</th>\n",
       "      <td>0.16</td>\n",
       "      <td>0.00</td>\n",
       "      <td>16.97</td>\n",
       "      <td>3.23</td>\n",
       "      <td>0.46</td>\n",
       "      <td>2.63</td>\n",
       "      <td>3.13</td>\n",
       "      <td>22,405.38</td>\n",
       "      <td>8,351,447.64</td>\n",
       "      <td>460.92</td>\n",
       "      <td>...</td>\n",
       "      <td>0.07</td>\n",
       "      <td>528,079.16</td>\n",
       "      <td>10,407.55</td>\n",
       "      <td>1.54</td>\n",
       "      <td>210,075,285,376.01</td>\n",
       "      <td>22,405.38</td>\n",
       "      <td>3,518,694.35</td>\n",
       "      <td>0.17</td>\n",
       "      <td>22,405.38</td>\n",
       "      <td>8,351,447.64</td>\n",
       "    </tr>\n",
       "    <tr>\n",
       "      <th>min</th>\n",
       "      <td>4.00</td>\n",
       "      <td>7.00</td>\n",
       "      <td>31.00</td>\n",
       "      <td>1.00</td>\n",
       "      <td>1.00</td>\n",
       "      <td>2.00</td>\n",
       "      <td>1.00</td>\n",
       "      <td>0.00</td>\n",
       "      <td>10,711,745.00</td>\n",
       "      <td>63.00</td>\n",
       "      <td>...</td>\n",
       "      <td>2,003.00</td>\n",
       "      <td>4.00</td>\n",
       "      <td>2.54</td>\n",
       "      <td>6.00</td>\n",
       "      <td>60,371,011,101,000.00</td>\n",
       "      <td>0.00</td>\n",
       "      <td>10,711,855.00</td>\n",
       "      <td>-4.66</td>\n",
       "      <td>0.00</td>\n",
       "      <td>10,711,745.00</td>\n",
       "    </tr>\n",
       "    <tr>\n",
       "      <th>25%</th>\n",
       "      <td>6.00</td>\n",
       "      <td>7.00</td>\n",
       "      <td>261.00</td>\n",
       "      <td>2.00</td>\n",
       "      <td>4.00</td>\n",
       "      <td>7.00</td>\n",
       "      <td>1.00</td>\n",
       "      <td>19,403.25</td>\n",
       "      <td>11,585,723.50</td>\n",
       "      <td>220.00</td>\n",
       "      <td>...</td>\n",
       "      <td>2,016.00</td>\n",
       "      <td>78,406.50</td>\n",
       "      <td>2,449.60</td>\n",
       "      <td>14.00</td>\n",
       "      <td>60,373,106,017,007.00</td>\n",
       "      <td>19,403.25</td>\n",
       "      <td>11,538,214.00</td>\n",
       "      <td>-0.02</td>\n",
       "      <td>19,403.25</td>\n",
       "      <td>11,585,723.50</td>\n",
       "    </tr>\n",
       "    <tr>\n",
       "      <th>50%</th>\n",
       "      <td>6.00</td>\n",
       "      <td>7.00</td>\n",
       "      <td>261.00</td>\n",
       "      <td>2.00</td>\n",
       "      <td>4.00</td>\n",
       "      <td>7.00</td>\n",
       "      <td>1.00</td>\n",
       "      <td>38,806.50</td>\n",
       "      <td>12,532,247.00</td>\n",
       "      <td>540.00</td>\n",
       "      <td>...</td>\n",
       "      <td>2,016.00</td>\n",
       "      <td>175,342.00</td>\n",
       "      <td>4,006.66</td>\n",
       "      <td>14.00</td>\n",
       "      <td>60,375,718,002,010.00</td>\n",
       "      <td>38,806.50</td>\n",
       "      <td>12,530,061.50</td>\n",
       "      <td>0.01</td>\n",
       "      <td>38,806.50</td>\n",
       "      <td>12,532,247.00</td>\n",
       "    </tr>\n",
       "    <tr>\n",
       "      <th>75%</th>\n",
       "      <td>6.00</td>\n",
       "      <td>7.00</td>\n",
       "      <td>261.00</td>\n",
       "      <td>7.00</td>\n",
       "      <td>4.00</td>\n",
       "      <td>7.00</td>\n",
       "      <td>1.00</td>\n",
       "      <td>58,209.75</td>\n",
       "      <td>14,115,087.00</td>\n",
       "      <td>732.00</td>\n",
       "      <td>...</td>\n",
       "      <td>2,016.00</td>\n",
       "      <td>324,677.00</td>\n",
       "      <td>6,198.60</td>\n",
       "      <td>15.00</td>\n",
       "      <td>60,590,423,262,017.00</td>\n",
       "      <td>58,209.75</td>\n",
       "      <td>14,211,001.25</td>\n",
       "      <td>0.04</td>\n",
       "      <td>58,209.75</td>\n",
       "      <td>14,115,087.00</td>\n",
       "    </tr>\n",
       "    <tr>\n",
       "      <th>max</th>\n",
       "      <td>6.00</td>\n",
       "      <td>7.00</td>\n",
       "      <td>275.00</td>\n",
       "      <td>24.00</td>\n",
       "      <td>5.00</td>\n",
       "      <td>21.00</td>\n",
       "      <td>13.00</td>\n",
       "      <td>77,613.00</td>\n",
       "      <td>169,601,949.00</td>\n",
       "      <td>2,443.00</td>\n",
       "      <td>...</td>\n",
       "      <td>2,016.00</td>\n",
       "      <td>94,011,079.00</td>\n",
       "      <td>1,824,154.85</td>\n",
       "      <td>15.00</td>\n",
       "      <td>61,110,091,003,005.00</td>\n",
       "      <td>77,613.00</td>\n",
       "      <td>167,689,317.00</td>\n",
       "      <td>5.26</td>\n",
       "      <td>77,613.00</td>\n",
       "      <td>169,601,949.00</td>\n",
       "    </tr>\n",
       "  </tbody>\n",
       "</table>\n",
       "<p>8 rows × 61 columns</p>\n",
       "</div>"
      ],
      "text/plain": [
       "       typeconstructiontypeid          storytypeid  propertylandusetypeid  \\\n",
       "count                  166.00                45.00              77,614.00   \n",
       "mean                     5.99                 7.00                 259.94   \n",
       "std                      0.16                 0.00                  16.97   \n",
       "min                      4.00                 7.00                  31.00   \n",
       "25%                      6.00                 7.00                 261.00   \n",
       "50%                      6.00                 7.00                 261.00   \n",
       "75%                      6.00                 7.00                 261.00   \n",
       "max                      6.00                 7.00                 275.00   \n",
       "\n",
       "       heatingorsystemtypeid  buildingclasstypeid  architecturalstyletypeid  \\\n",
       "count              48,475.00               383.00                    151.00   \n",
       "mean                    4.04                 3.78                      7.43   \n",
       "std                     3.23                 0.46                      2.63   \n",
       "min                     1.00                 1.00                      2.00   \n",
       "25%                     2.00                 4.00                      7.00   \n",
       "50%                     2.00                 4.00                      7.00   \n",
       "75%                     7.00                 4.00                      7.00   \n",
       "max                    24.00                 5.00                     21.00   \n",
       "\n",
       "       airconditioningtypeid                   id             parcelid  \\\n",
       "count              21,457.00            77,614.00            77,614.00   \n",
       "mean                    1.93            38,806.50        13,379,428.47   \n",
       "std                     3.13            22,405.38         8,351,447.64   \n",
       "min                     1.00                 0.00        10,711,745.00   \n",
       "25%                     1.00            19,403.25        11,585,723.50   \n",
       "50%                     1.00            38,806.50        12,532,247.00   \n",
       "75%                     1.00            58,209.75        14,115,087.00   \n",
       "max                    13.00            77,613.00       169,601,949.00   \n",
       "\n",
       "              basementsqft  ...       assessmentyear  landtaxvaluedollarcnt  \\\n",
       "count                45.00  ...            77,614.00              76,003.00   \n",
       "mean                593.13  ...             2,016.00             265,047.58   \n",
       "std                 460.92  ...                 0.07             528,079.16   \n",
       "min                  63.00  ...             2,003.00                   4.00   \n",
       "25%                 220.00  ...             2,016.00              78,406.50   \n",
       "50%                 540.00  ...             2,016.00             175,342.00   \n",
       "75%                 732.00  ...             2,016.00             324,677.00   \n",
       "max               2,443.00  ...             2,016.00          94,011,079.00   \n",
       "\n",
       "                 taxamount   taxdelinquencyyear   censustractandblock  \\\n",
       "count            77,103.00             1,505.00             75,519.00   \n",
       "mean              5,371.52                13.91 60,489,761,355,119.06   \n",
       "std              10,407.55                 1.54    210,075,285,376.01   \n",
       "min                   2.54                 6.00 60,371,011,101,000.00   \n",
       "25%               2,449.60                14.00 60,373,106,017,007.00   \n",
       "50%               4,006.66                14.00 60,375,718,002,010.00   \n",
       "75%               6,198.60                15.00 60,590,423,262,017.00   \n",
       "max           1,824,154.85                15.00 61,110,091,003,005.00   \n",
       "\n",
       "                        id             parcelid             logerror  \\\n",
       "count            77,614.00            77,614.00            77,614.00   \n",
       "mean             38,806.50        13,007,807.98                 0.02   \n",
       "std              22,405.38         3,518,694.35                 0.17   \n",
       "min                   0.00        10,711,855.00                -4.66   \n",
       "25%              19,403.25        11,538,214.00                -0.02   \n",
       "50%              38,806.50        12,530,061.50                 0.01   \n",
       "75%              58,209.75        14,211,001.25                 0.04   \n",
       "max              77,613.00       167,689,317.00                 5.26   \n",
       "\n",
       "                        id             parcelid  \n",
       "count            77,614.00            77,614.00  \n",
       "mean             38,806.50        13,379,428.47  \n",
       "std              22,405.38         8,351,447.64  \n",
       "min                   0.00        10,711,745.00  \n",
       "25%              19,403.25        11,585,723.50  \n",
       "50%              38,806.50        12,532,247.00  \n",
       "75%              58,209.75        14,115,087.00  \n",
       "max              77,613.00       169,601,949.00  \n",
       "\n",
       "[8 rows x 61 columns]"
      ]
     },
     "execution_count": 7,
     "metadata": {},
     "output_type": "execute_result"
    }
   ],
   "source": [
    "df.describe()"
   ]
  },
  {
   "cell_type": "code",
   "execution_count": 8,
   "id": "bf223fa5",
   "metadata": {},
   "outputs": [
    {
     "data": {
      "text/plain": [
       "(77614, 73)"
      ]
     },
     "execution_count": 8,
     "metadata": {},
     "output_type": "execute_result"
    }
   ],
   "source": [
    "df.shape"
   ]
  },
  {
   "cell_type": "code",
   "execution_count": 9,
   "id": "a63e4e7f",
   "metadata": {},
   "outputs": [
    {
     "data": {
      "text/plain": [
       "typeconstructiontypeid    float64\n",
       "storytypeid               float64\n",
       "propertylandusetypeid     float64\n",
       "heatingorsystemtypeid     float64\n",
       "buildingclasstypeid       float64\n",
       "                           ...   \n",
       "last_trans_date            object\n",
       "propertylandusedesc        object\n",
       "storydesc                  object\n",
       "typeconstructiondesc       object\n",
       "parcelid                    int64\n",
       "Length: 73, dtype: object"
      ]
     },
     "execution_count": 9,
     "metadata": {},
     "output_type": "execute_result"
    }
   ],
   "source": [
    "df.dtypes"
   ]
  },
  {
   "cell_type": "code",
   "execution_count": 10,
   "id": "e0c33f12",
   "metadata": {},
   "outputs": [],
   "source": [
    "# create list of single unit propertylandusedesc\n",
    "single_prop_types = ['Single Family Residential', 'Condominium', 'Mobile Home',\n",
    "                     'Manufactured, Modular, Prefabricated Homes', 'Townhouse']\n",
    "# filter for most-likely single unit properties\n",
    "df = df[df.propertylandusedesc.isin(single_prop_types)]\n",
    "df = df[(df.bedroomcnt > 0) & (df.bedroomcnt <= 10)]\n",
    "df = df[(df.bathroomcnt > 0) & (df.bathroomcnt <= 10)]"
   ]
  },
  {
   "cell_type": "code",
   "execution_count": 11,
   "id": "e03f10a7",
   "metadata": {},
   "outputs": [
    {
     "data": {
      "text/plain": [
       "(68041, 73)"
      ]
     },
     "execution_count": 11,
     "metadata": {},
     "output_type": "execute_result"
    }
   ],
   "source": [
    "df.shape"
   ]
  },
  {
   "cell_type": "code",
   "execution_count": 12,
   "id": "4a4cf590",
   "metadata": {},
   "outputs": [
    {
     "data": {
      "text/html": [
       "<div>\n",
       "<style scoped>\n",
       "    .dataframe tbody tr th:only-of-type {\n",
       "        vertical-align: middle;\n",
       "    }\n",
       "\n",
       "    .dataframe tbody tr th {\n",
       "        vertical-align: top;\n",
       "    }\n",
       "\n",
       "    .dataframe thead th {\n",
       "        text-align: right;\n",
       "    }\n",
       "</style>\n",
       "<table border=\"1\" class=\"dataframe\">\n",
       "  <thead>\n",
       "    <tr style=\"text-align: right;\">\n",
       "      <th></th>\n",
       "      <th>num_rows_missing</th>\n",
       "      <th>percent_rows_missing</th>\n",
       "    </tr>\n",
       "  </thead>\n",
       "  <tbody>\n",
       "    <tr>\n",
       "      <th>typeconstructiontypeid</th>\n",
       "      <td>67875</td>\n",
       "      <td>99.76</td>\n",
       "    </tr>\n",
       "    <tr>\n",
       "      <th>storytypeid</th>\n",
       "      <td>67997</td>\n",
       "      <td>99.94</td>\n",
       "    </tr>\n",
       "    <tr>\n",
       "      <th>propertylandusetypeid</th>\n",
       "      <td>0</td>\n",
       "      <td>0.00</td>\n",
       "    </tr>\n",
       "    <tr>\n",
       "      <th>heatingorsystemtypeid</th>\n",
       "      <td>22889</td>\n",
       "      <td>33.64</td>\n",
       "    </tr>\n",
       "    <tr>\n",
       "      <th>buildingclasstypeid</th>\n",
       "      <td>68041</td>\n",
       "      <td>100.00</td>\n",
       "    </tr>\n",
       "    <tr>\n",
       "      <th>...</th>\n",
       "      <td>...</td>\n",
       "      <td>...</td>\n",
       "    </tr>\n",
       "    <tr>\n",
       "      <th>last_trans_date</th>\n",
       "      <td>0</td>\n",
       "      <td>0.00</td>\n",
       "    </tr>\n",
       "    <tr>\n",
       "      <th>propertylandusedesc</th>\n",
       "      <td>0</td>\n",
       "      <td>0.00</td>\n",
       "    </tr>\n",
       "    <tr>\n",
       "      <th>storydesc</th>\n",
       "      <td>67997</td>\n",
       "      <td>99.94</td>\n",
       "    </tr>\n",
       "    <tr>\n",
       "      <th>typeconstructiondesc</th>\n",
       "      <td>67875</td>\n",
       "      <td>99.76</td>\n",
       "    </tr>\n",
       "    <tr>\n",
       "      <th>parcelid</th>\n",
       "      <td>0</td>\n",
       "      <td>0.00</td>\n",
       "    </tr>\n",
       "  </tbody>\n",
       "</table>\n",
       "<p>73 rows × 2 columns</p>\n",
       "</div>"
      ],
      "text/plain": [
       "                        num_rows_missing  percent_rows_missing\n",
       "typeconstructiontypeid             67875                 99.76\n",
       "storytypeid                        67997                 99.94\n",
       "propertylandusetypeid                  0                  0.00\n",
       "heatingorsystemtypeid              22889                 33.64\n",
       "buildingclasstypeid                68041                100.00\n",
       "...                                  ...                   ...\n",
       "last_trans_date                        0                  0.00\n",
       "propertylandusedesc                    0                  0.00\n",
       "storydesc                          67997                 99.94\n",
       "typeconstructiondesc               67875                 99.76\n",
       "parcelid                               0                  0.00\n",
       "\n",
       "[73 rows x 2 columns]"
      ]
     },
     "execution_count": 12,
     "metadata": {},
     "output_type": "execute_result"
    }
   ],
   "source": [
    "wrangle_functions.nulls_by_col(df)"
   ]
  },
  {
   "cell_type": "code",
   "execution_count": 13,
   "id": "d52aded6",
   "metadata": {},
   "outputs": [
    {
     "data": {
      "image/png": "[encoded data removed]",
      "text/plain": [
       "<Figure size 5040x2520 with 64 Axes>"
      ]
     },
     "metadata": {
      "needs_background": "light"
     },
     "output_type": "display_data"
    }
   ],
   "source": [
    "# plot histograms for all variables\n",
    "df.hist(figsize=(70, 35), bins=30)\n",
    "plt.show()"
   ]
  },
  {
   "cell_type": "markdown",
   "id": "071ca507",
   "metadata": {},
   "source": [
    "********************************************************************* Acquire Takeaways"
   ]
  },
  {
   "cell_type": "code",
   "execution_count": 14,
   "id": "ba69346c",
   "metadata": {},
   "outputs": [
    {
     "data": {
      "text/html": [
       "<div>\n",
       "<style scoped>\n",
       "    .dataframe tbody tr th:only-of-type {\n",
       "        vertical-align: middle;\n",
       "    }\n",
       "\n",
       "    .dataframe tbody tr th {\n",
       "        vertical-align: top;\n",
       "    }\n",
       "\n",
       "    .dataframe thead th {\n",
       "        text-align: right;\n",
       "    }\n",
       "</style>\n",
       "<table border=\"1\" class=\"dataframe\">\n",
       "  <thead>\n",
       "    <tr style=\"text-align: right;\">\n",
       "      <th></th>\n",
       "      <th>num_rows_missing</th>\n",
       "      <th>percent_rows_missing</th>\n",
       "    </tr>\n",
       "  </thead>\n",
       "  <tbody>\n",
       "    <tr>\n",
       "      <th>typeconstructiontypeid</th>\n",
       "      <td>67875</td>\n",
       "      <td>99.76</td>\n",
       "    </tr>\n",
       "    <tr>\n",
       "      <th>storytypeid</th>\n",
       "      <td>67997</td>\n",
       "      <td>99.94</td>\n",
       "    </tr>\n",
       "    <tr>\n",
       "      <th>propertylandusetypeid</th>\n",
       "      <td>0</td>\n",
       "      <td>0.00</td>\n",
       "    </tr>\n",
       "    <tr>\n",
       "      <th>heatingorsystemtypeid</th>\n",
       "      <td>22889</td>\n",
       "      <td>33.64</td>\n",
       "    </tr>\n",
       "    <tr>\n",
       "      <th>buildingclasstypeid</th>\n",
       "      <td>68041</td>\n",
       "      <td>100.00</td>\n",
       "    </tr>\n",
       "    <tr>\n",
       "      <th>...</th>\n",
       "      <td>...</td>\n",
       "      <td>...</td>\n",
       "    </tr>\n",
       "    <tr>\n",
       "      <th>last_trans_date</th>\n",
       "      <td>0</td>\n",
       "      <td>0.00</td>\n",
       "    </tr>\n",
       "    <tr>\n",
       "      <th>propertylandusedesc</th>\n",
       "      <td>0</td>\n",
       "      <td>0.00</td>\n",
       "    </tr>\n",
       "    <tr>\n",
       "      <th>storydesc</th>\n",
       "      <td>67997</td>\n",
       "      <td>99.94</td>\n",
       "    </tr>\n",
       "    <tr>\n",
       "      <th>typeconstructiondesc</th>\n",
       "      <td>67875</td>\n",
       "      <td>99.76</td>\n",
       "    </tr>\n",
       "    <tr>\n",
       "      <th>parcelid</th>\n",
       "      <td>0</td>\n",
       "      <td>0.00</td>\n",
       "    </tr>\n",
       "  </tbody>\n",
       "</table>\n",
       "<p>73 rows × 2 columns</p>\n",
       "</div>"
      ],
      "text/plain": [
       "                        num_rows_missing  percent_rows_missing\n",
       "typeconstructiontypeid             67875                 99.76\n",
       "storytypeid                        67997                 99.94\n",
       "propertylandusetypeid                  0                  0.00\n",
       "heatingorsystemtypeid              22889                 33.64\n",
       "buildingclasstypeid                68041                100.00\n",
       "...                                  ...                   ...\n",
       "last_trans_date                        0                  0.00\n",
       "propertylandusedesc                    0                  0.00\n",
       "storydesc                          67997                 99.94\n",
       "typeconstructiondesc               67875                 99.76\n",
       "parcelid                               0                  0.00\n",
       "\n",
       "[73 rows x 2 columns]"
      ]
     },
     "execution_count": 14,
     "metadata": {},
     "output_type": "execute_result"
    }
   ],
   "source": [
    "# how many null values are in each columns \n",
    "wrangle_functions.nulls_by_col(df)"
   ]
  },
  {
   "cell_type": "code",
   "execution_count": 15,
   "id": "40cd62b6",
   "metadata": {},
   "outputs": [],
   "source": [
    "def drop_cols_null(df, max_missing_rows_pct=0.25):\n",
    "    '''\n",
    "    Takes in a DataFrame and a maximum percent for missing values and\n",
    "    returns the passed DataFrame after removing any colums missing the\n",
    "    defined max percent or more worth of rows\n",
    "    '''\n",
    "    \n",
    "    # set threshold for axis=1 and drop cols\n",
    "    thresh_col = math.ceil(df.shape[0] * (1 - max_missing_rows_pct))\n",
    "    df = df.dropna(axis=1, thresh=thresh_col)\n",
    "\n",
    "    return df"
   ]
  },
  {
   "cell_type": "code",
   "execution_count": 16,
   "id": "90379cbe",
   "metadata": {},
   "outputs": [],
   "source": [
    "# I want to drop any column with more than 25% of the values missing\n",
    "df = drop_cols_null(df)"
   ]
  },
  {
   "cell_type": "code",
   "execution_count": 17,
   "id": "b513da30",
   "metadata": {},
   "outputs": [
    {
     "data": {
      "text/plain": [
       "(68041, 34)"
      ]
     },
     "execution_count": 17,
     "metadata": {},
     "output_type": "execute_result"
    }
   ],
   "source": [
    "# the above function removed 39 columns\n",
    "df.shape"
   ]
  },
  {
   "cell_type": "code",
   "execution_count": 18,
   "id": "82fa7b9e",
   "metadata": {},
   "outputs": [
    {
     "data": {
      "text/html": [
       "<div>\n",
       "<style scoped>\n",
       "    .dataframe tbody tr th:only-of-type {\n",
       "        vertical-align: middle;\n",
       "    }\n",
       "\n",
       "    .dataframe tbody tr th {\n",
       "        vertical-align: top;\n",
       "    }\n",
       "\n",
       "    .dataframe thead th {\n",
       "        text-align: right;\n",
       "    }\n",
       "</style>\n",
       "<table border=\"1\" class=\"dataframe\">\n",
       "  <thead>\n",
       "    <tr style=\"text-align: right;\">\n",
       "      <th></th>\n",
       "      <th>propertylandusetypeid</th>\n",
       "      <th>id</th>\n",
       "      <th>parcelid</th>\n",
       "      <th>bathroomcnt</th>\n",
       "      <th>bedroomcnt</th>\n",
       "      <th>calculatedbathnbr</th>\n",
       "      <th>calculatedfinishedsquarefeet</th>\n",
       "      <th>finishedsquarefeet12</th>\n",
       "      <th>fips</th>\n",
       "      <th>fullbathcnt</th>\n",
       "      <th>...</th>\n",
       "      <th>taxamount</th>\n",
       "      <th>censustractandblock</th>\n",
       "      <th>id</th>\n",
       "      <th>parcelid</th>\n",
       "      <th>logerror</th>\n",
       "      <th>transactiondate</th>\n",
       "      <th>id</th>\n",
       "      <th>last_trans_date</th>\n",
       "      <th>propertylandusedesc</th>\n",
       "      <th>parcelid</th>\n",
       "    </tr>\n",
       "  </thead>\n",
       "  <tbody>\n",
       "    <tr>\n",
       "      <th>20</th>\n",
       "      <td>261.00</td>\n",
       "      <td>20</td>\n",
       "      <td>11324547</td>\n",
       "      <td>2.00</td>\n",
       "      <td>4.00</td>\n",
       "      <td>2.00</td>\n",
       "      <td>3,633.00</td>\n",
       "      <td>3,633.00</td>\n",
       "      <td>6,037.00</td>\n",
       "      <td>2.00</td>\n",
       "      <td>...</td>\n",
       "      <td>6,941.39</td>\n",
       "      <td>NaN</td>\n",
       "      <td>20</td>\n",
       "      <td>12325145</td>\n",
       "      <td>0.04</td>\n",
       "      <td>2017-01-02</td>\n",
       "      <td>20</td>\n",
       "      <td>2017-01-02</td>\n",
       "      <td>Single Family Residential</td>\n",
       "      <td>11324547</td>\n",
       "    </tr>\n",
       "    <tr>\n",
       "      <th>30</th>\n",
       "      <td>266.00</td>\n",
       "      <td>30</td>\n",
       "      <td>11524947</td>\n",
       "      <td>2.00</td>\n",
       "      <td>2.00</td>\n",
       "      <td>2.00</td>\n",
       "      <td>1,090.00</td>\n",
       "      <td>1,090.00</td>\n",
       "      <td>6,037.00</td>\n",
       "      <td>2.00</td>\n",
       "      <td>...</td>\n",
       "      <td>6,165.36</td>\n",
       "      <td>NaN</td>\n",
       "      <td>30</td>\n",
       "      <td>12713253</td>\n",
       "      <td>0.02</td>\n",
       "      <td>2017-01-02</td>\n",
       "      <td>30</td>\n",
       "      <td>2017-01-02</td>\n",
       "      <td>Condominium</td>\n",
       "      <td>11524947</td>\n",
       "    </tr>\n",
       "    <tr>\n",
       "      <th>31</th>\n",
       "      <td>261.00</td>\n",
       "      <td>31</td>\n",
       "      <td>11544747</td>\n",
       "      <td>4.00</td>\n",
       "      <td>3.00</td>\n",
       "      <td>4.00</td>\n",
       "      <td>1,620.00</td>\n",
       "      <td>1,620.00</td>\n",
       "      <td>6,037.00</td>\n",
       "      <td>4.00</td>\n",
       "      <td>...</td>\n",
       "      <td>10,244.94</td>\n",
       "      <td>NaN</td>\n",
       "      <td>31</td>\n",
       "      <td>14338242</td>\n",
       "      <td>-0.02</td>\n",
       "      <td>2017-01-02</td>\n",
       "      <td>31</td>\n",
       "      <td>2017-01-02</td>\n",
       "      <td>Single Family Residential</td>\n",
       "      <td>11544747</td>\n",
       "    </tr>\n",
       "    <tr>\n",
       "      <th>33</th>\n",
       "      <td>261.00</td>\n",
       "      <td>33</td>\n",
       "      <td>11585547</td>\n",
       "      <td>2.00</td>\n",
       "      <td>3.00</td>\n",
       "      <td>2.00</td>\n",
       "      <td>2,077.00</td>\n",
       "      <td>2,077.00</td>\n",
       "      <td>6,037.00</td>\n",
       "      <td>2.00</td>\n",
       "      <td>...</td>\n",
       "      <td>7,924.68</td>\n",
       "      <td>NaN</td>\n",
       "      <td>33</td>\n",
       "      <td>12155445</td>\n",
       "      <td>-0.04</td>\n",
       "      <td>2017-01-02</td>\n",
       "      <td>33</td>\n",
       "      <td>2017-01-02</td>\n",
       "      <td>Single Family Residential</td>\n",
       "      <td>11585547</td>\n",
       "    </tr>\n",
       "    <tr>\n",
       "      <th>37</th>\n",
       "      <td>266.00</td>\n",
       "      <td>37</td>\n",
       "      <td>11617547</td>\n",
       "      <td>3.00</td>\n",
       "      <td>2.00</td>\n",
       "      <td>3.00</td>\n",
       "      <td>2,735.00</td>\n",
       "      <td>2,735.00</td>\n",
       "      <td>6,037.00</td>\n",
       "      <td>3.00</td>\n",
       "      <td>...</td>\n",
       "      <td>34,982.17</td>\n",
       "      <td>NaN</td>\n",
       "      <td>37</td>\n",
       "      <td>11682477</td>\n",
       "      <td>0.03</td>\n",
       "      <td>2017-01-02</td>\n",
       "      <td>37</td>\n",
       "      <td>2017-01-02</td>\n",
       "      <td>Condominium</td>\n",
       "      <td>11617547</td>\n",
       "    </tr>\n",
       "  </tbody>\n",
       "</table>\n",
       "<p>5 rows × 34 columns</p>\n",
       "</div>"
      ],
      "text/plain": [
       "    propertylandusetypeid  id  parcelid          bathroomcnt  \\\n",
       "20                 261.00  20  11324547                 2.00   \n",
       "30                 266.00  30  11524947                 2.00   \n",
       "31                 261.00  31  11544747                 4.00   \n",
       "33                 261.00  33  11585547                 2.00   \n",
       "37                 266.00  37  11617547                 3.00   \n",
       "\n",
       "             bedroomcnt    calculatedbathnbr  calculatedfinishedsquarefeet  \\\n",
       "20                 4.00                 2.00                      3,633.00   \n",
       "30                 2.00                 2.00                      1,090.00   \n",
       "31                 3.00                 4.00                      1,620.00   \n",
       "33                 3.00                 2.00                      2,077.00   \n",
       "37                 2.00                 3.00                      2,735.00   \n",
       "\n",
       "    finishedsquarefeet12                 fips          fullbathcnt  ...  \\\n",
       "20              3,633.00             6,037.00                 2.00  ...   \n",
       "30              1,090.00             6,037.00                 2.00  ...   \n",
       "31              1,620.00             6,037.00                 4.00  ...   \n",
       "33              2,077.00             6,037.00                 2.00  ...   \n",
       "37              2,735.00             6,037.00                 3.00  ...   \n",
       "\n",
       "              taxamount  censustractandblock  id  parcelid  \\\n",
       "20             6,941.39                  NaN  20  12325145   \n",
       "30             6,165.36                  NaN  30  12713253   \n",
       "31            10,244.94                  NaN  31  14338242   \n",
       "33             7,924.68                  NaN  33  12155445   \n",
       "37            34,982.17                  NaN  37  11682477   \n",
       "\n",
       "               logerror  transactiondate  id  last_trans_date  \\\n",
       "20                 0.04       2017-01-02  20       2017-01-02   \n",
       "30                 0.02       2017-01-02  30       2017-01-02   \n",
       "31                -0.02       2017-01-02  31       2017-01-02   \n",
       "33                -0.04       2017-01-02  33       2017-01-02   \n",
       "37                 0.03       2017-01-02  37       2017-01-02   \n",
       "\n",
       "          propertylandusedesc  parcelid  \n",
       "20  Single Family Residential  11324547  \n",
       "30                Condominium  11524947  \n",
       "31  Single Family Residential  11544747  \n",
       "33  Single Family Residential  11585547  \n",
       "37                Condominium  11617547  \n",
       "\n",
       "[5 rows x 34 columns]"
      ]
     },
     "execution_count": 18,
     "metadata": {},
     "output_type": "execute_result"
    }
   ],
   "source": [
    "df.head()"
   ]
  },
  {
   "cell_type": "code",
   "execution_count": 19,
   "id": "6834db3f",
   "metadata": {},
   "outputs": [
    {
     "data": {
      "text/plain": [
       "Index(['propertylandusetypeid', 'id', 'parcelid', 'bathroomcnt', 'bedroomcnt',\n",
       "       'calculatedbathnbr', 'calculatedfinishedsquarefeet',\n",
       "       'finishedsquarefeet12', 'fips', 'fullbathcnt', 'latitude', 'longitude',\n",
       "       'lotsizesquarefeet', 'propertycountylandusecode',\n",
       "       'rawcensustractandblock', 'regionidcity', 'regionidcounty',\n",
       "       'regionidzip', 'roomcnt', 'yearbuilt', 'structuretaxvaluedollarcnt',\n",
       "       'taxvaluedollarcnt', 'assessmentyear', 'landtaxvaluedollarcnt',\n",
       "       'taxamount', 'censustractandblock', 'id', 'parcelid', 'logerror',\n",
       "       'transactiondate', 'id', 'last_trans_date', 'propertylandusedesc',\n",
       "       'parcelid'],\n",
       "      dtype='object')"
      ]
     },
     "execution_count": 19,
     "metadata": {},
     "output_type": "execute_result"
    }
   ],
   "source": [
    "df.columns"
   ]
  },
  {
   "cell_type": "code",
   "execution_count": 20,
   "id": "a3737165",
   "metadata": {},
   "outputs": [],
   "source": [
    "df =df.drop(columns= ['propertylandusetypeid', 'id', \n",
    "       'calculatedbathnbr','rawcensustractandblock',\n",
    "        'propertycountylandusecode','regionidcounty','finishedsquarefeet12',\n",
    "       'regionidzip', 'yearbuilt','id','censustractandblock','last_trans_date',\n",
    "       'transactiondate', 'id','roomcnt','fullbathcnt','assessmentyear','propertylandusedesc'])\n"
   ]
  },
  {
   "cell_type": "code",
   "execution_count": 21,
   "id": "6a9114d8",
   "metadata": {},
   "outputs": [
    {
     "data": {
      "text/plain": [
       "Index(['parcelid', 'bathroomcnt', 'bedroomcnt', 'calculatedfinishedsquarefeet',\n",
       "       'fips', 'latitude', 'longitude', 'lotsizesquarefeet', 'regionidcity',\n",
       "       'structuretaxvaluedollarcnt', 'taxvaluedollarcnt',\n",
       "       'landtaxvaluedollarcnt', 'taxamount', 'parcelid', 'logerror',\n",
       "       'parcelid'],\n",
       "      dtype='object')"
      ]
     },
     "execution_count": 21,
     "metadata": {},
     "output_type": "execute_result"
    }
   ],
   "source": [
    "df.columns"
   ]
  },
  {
   "cell_type": "code",
   "execution_count": 22,
   "id": "00cc938c",
   "metadata": {},
   "outputs": [
    {
     "data": {
      "text/html": [
       "<div>\n",
       "<style scoped>\n",
       "    .dataframe tbody tr th:only-of-type {\n",
       "        vertical-align: middle;\n",
       "    }\n",
       "\n",
       "    .dataframe tbody tr th {\n",
       "        vertical-align: top;\n",
       "    }\n",
       "\n",
       "    .dataframe thead th {\n",
       "        text-align: right;\n",
       "    }\n",
       "</style>\n",
       "<table border=\"1\" class=\"dataframe\">\n",
       "  <thead>\n",
       "    <tr style=\"text-align: right;\">\n",
       "      <th></th>\n",
       "      <th>parcelid</th>\n",
       "      <th>bathroomcnt</th>\n",
       "      <th>bedroomcnt</th>\n",
       "      <th>calculatedfinishedsquarefeet</th>\n",
       "      <th>fips</th>\n",
       "      <th>latitude</th>\n",
       "      <th>longitude</th>\n",
       "      <th>lotsizesquarefeet</th>\n",
       "      <th>regionidcity</th>\n",
       "      <th>structuretaxvaluedollarcnt</th>\n",
       "      <th>taxvaluedollarcnt</th>\n",
       "      <th>landtaxvaluedollarcnt</th>\n",
       "      <th>taxamount</th>\n",
       "      <th>parcelid</th>\n",
       "      <th>logerror</th>\n",
       "      <th>parcelid</th>\n",
       "    </tr>\n",
       "  </thead>\n",
       "  <tbody>\n",
       "    <tr>\n",
       "      <th>20</th>\n",
       "      <td>11324547</td>\n",
       "      <td>2.00</td>\n",
       "      <td>4.00</td>\n",
       "      <td>3,633.00</td>\n",
       "      <td>6,037.00</td>\n",
       "      <td>34,560,018.00</td>\n",
       "      <td>-118,169,806.00</td>\n",
       "      <td>9,826.00</td>\n",
       "      <td>40,227.00</td>\n",
       "      <td>222,321.00</td>\n",
       "      <td>296,425.00</td>\n",
       "      <td>74,104.00</td>\n",
       "      <td>6,941.39</td>\n",
       "      <td>12325145</td>\n",
       "      <td>0.04</td>\n",
       "      <td>11324547</td>\n",
       "    </tr>\n",
       "    <tr>\n",
       "      <th>30</th>\n",
       "      <td>11524947</td>\n",
       "      <td>2.00</td>\n",
       "      <td>2.00</td>\n",
       "      <td>1,090.00</td>\n",
       "      <td>6,037.00</td>\n",
       "      <td>33,974,100.00</td>\n",
       "      <td>-118,423,000.00</td>\n",
       "      <td>40,247.00</td>\n",
       "      <td>12,447.00</td>\n",
       "      <td>232,897.00</td>\n",
       "      <td>357,568.00</td>\n",
       "      <td>124,671.00</td>\n",
       "      <td>6,165.36</td>\n",
       "      <td>12713253</td>\n",
       "      <td>0.02</td>\n",
       "      <td>11524947</td>\n",
       "    </tr>\n",
       "    <tr>\n",
       "      <th>31</th>\n",
       "      <td>11544747</td>\n",
       "      <td>4.00</td>\n",
       "      <td>3.00</td>\n",
       "      <td>1,620.00</td>\n",
       "      <td>6,037.00</td>\n",
       "      <td>33,996,200.00</td>\n",
       "      <td>-118,438,000.00</td>\n",
       "      <td>NaN</td>\n",
       "      <td>12,447.00</td>\n",
       "      <td>339,532.00</td>\n",
       "      <td>847,770.00</td>\n",
       "      <td>508,238.00</td>\n",
       "      <td>10,244.94</td>\n",
       "      <td>14338242</td>\n",
       "      <td>-0.02</td>\n",
       "      <td>11544747</td>\n",
       "    </tr>\n",
       "    <tr>\n",
       "      <th>33</th>\n",
       "      <td>11585547</td>\n",
       "      <td>2.00</td>\n",
       "      <td>3.00</td>\n",
       "      <td>2,077.00</td>\n",
       "      <td>6,037.00</td>\n",
       "      <td>34,012,977.00</td>\n",
       "      <td>-118,479,243.00</td>\n",
       "      <td>6,490.00</td>\n",
       "      <td>26,964.00</td>\n",
       "      <td>210,192.00</td>\n",
       "      <td>646,760.00</td>\n",
       "      <td>436,568.00</td>\n",
       "      <td>7,924.68</td>\n",
       "      <td>12155445</td>\n",
       "      <td>-0.04</td>\n",
       "      <td>11585547</td>\n",
       "    </tr>\n",
       "    <tr>\n",
       "      <th>37</th>\n",
       "      <td>11617547</td>\n",
       "      <td>3.00</td>\n",
       "      <td>2.00</td>\n",
       "      <td>2,735.00</td>\n",
       "      <td>6,037.00</td>\n",
       "      <td>34,059,700.00</td>\n",
       "      <td>-118,439,000.00</td>\n",
       "      <td>NaN</td>\n",
       "      <td>12,447.00</td>\n",
       "      <td>757,582.00</td>\n",
       "      <td>2,922,104.00</td>\n",
       "      <td>2,164,522.00</td>\n",
       "      <td>34,982.17</td>\n",
       "      <td>11682477</td>\n",
       "      <td>0.03</td>\n",
       "      <td>11617547</td>\n",
       "    </tr>\n",
       "  </tbody>\n",
       "</table>\n",
       "</div>"
      ],
      "text/plain": [
       "    parcelid          bathroomcnt           bedroomcnt  \\\n",
       "20  11324547                 2.00                 4.00   \n",
       "30  11524947                 2.00                 2.00   \n",
       "31  11544747                 4.00                 3.00   \n",
       "33  11585547                 2.00                 3.00   \n",
       "37  11617547                 3.00                 2.00   \n",
       "\n",
       "    calculatedfinishedsquarefeet                 fips             latitude  \\\n",
       "20                      3,633.00             6,037.00        34,560,018.00   \n",
       "30                      1,090.00             6,037.00        33,974,100.00   \n",
       "31                      1,620.00             6,037.00        33,996,200.00   \n",
       "33                      2,077.00             6,037.00        34,012,977.00   \n",
       "37                      2,735.00             6,037.00        34,059,700.00   \n",
       "\n",
       "              longitude    lotsizesquarefeet         regionidcity  \\\n",
       "20      -118,169,806.00             9,826.00            40,227.00   \n",
       "30      -118,423,000.00            40,247.00            12,447.00   \n",
       "31      -118,438,000.00                  NaN            12,447.00   \n",
       "33      -118,479,243.00             6,490.00            26,964.00   \n",
       "37      -118,439,000.00                  NaN            12,447.00   \n",
       "\n",
       "    structuretaxvaluedollarcnt    taxvaluedollarcnt  landtaxvaluedollarcnt  \\\n",
       "20                  222,321.00           296,425.00              74,104.00   \n",
       "30                  232,897.00           357,568.00             124,671.00   \n",
       "31                  339,532.00           847,770.00             508,238.00   \n",
       "33                  210,192.00           646,760.00             436,568.00   \n",
       "37                  757,582.00         2,922,104.00           2,164,522.00   \n",
       "\n",
       "              taxamount  parcelid             logerror  parcelid  \n",
       "20             6,941.39  12325145                 0.04  11324547  \n",
       "30             6,165.36  12713253                 0.02  11524947  \n",
       "31            10,244.94  14338242                -0.02  11544747  \n",
       "33             7,924.68  12155445                -0.04  11585547  \n",
       "37            34,982.17  11682477                 0.03  11617547  "
      ]
     },
     "execution_count": 22,
     "metadata": {},
     "output_type": "execute_result"
    }
   ],
   "source": [
    "df.head()"
   ]
  },
  {
   "cell_type": "code",
   "execution_count": 23,
   "id": "8b7d41d3",
   "metadata": {},
   "outputs": [
    {
     "data": {
      "text/plain": [
       "parcelid    68041\n",
       "parcelid    67880\n",
       "parcelid    68041\n",
       "dtype: int64"
      ]
     },
     "execution_count": 23,
     "metadata": {},
     "output_type": "execute_result"
    }
   ],
   "source": [
    "#check to see if they have the same values\n",
    "df.parcelid.nunique()"
   ]
  },
  {
   "cell_type": "code",
   "execution_count": 24,
   "id": "2b405577",
   "metadata": {},
   "outputs": [],
   "source": [
    "# here I am dropping the duplicate parcelid column\n",
    "df = df.iloc[:,~df.columns.duplicated()]"
   ]
  },
  {
   "cell_type": "code",
   "execution_count": 25,
   "id": "c8253104",
   "metadata": {},
   "outputs": [
    {
     "data": {
      "text/plain": [
       "Index(['parcelid', 'bathroomcnt', 'bedroomcnt', 'calculatedfinishedsquarefeet',\n",
       "       'fips', 'latitude', 'longitude', 'lotsizesquarefeet', 'regionidcity',\n",
       "       'structuretaxvaluedollarcnt', 'taxvaluedollarcnt',\n",
       "       'landtaxvaluedollarcnt', 'taxamount', 'logerror'],\n",
       "      dtype='object')"
      ]
     },
     "execution_count": 25,
     "metadata": {},
     "output_type": "execute_result"
    }
   ],
   "source": [
    "# checking to make sure that happened\n",
    "df.columns"
   ]
  },
  {
   "cell_type": "code",
   "execution_count": 26,
   "id": "7916748b",
   "metadata": {},
   "outputs": [],
   "source": [
    "#rename columns we might keep for better understanding\n",
    "#df.rename(columns={'oldName1': 'newName1', 'oldName2': 'newName2'}, inplace=True)\n",
    "df = df.rename(columns={'bathroomcnt':'bathrooms','bedroomcnt': 'bedrooms','calculatedfinishedsquarefeet':\n",
    "         'area','fips':'zipcode','lotsizesquarefeet': 'lot_area','taxvaluedollarcnt':'tax_value'})"
   ]
  },
  {
   "cell_type": "code",
   "execution_count": 27,
   "id": "cfb5421c",
   "metadata": {},
   "outputs": [
    {
     "data": {
      "text/plain": [
       "(68041, 14)"
      ]
     },
     "execution_count": 27,
     "metadata": {},
     "output_type": "execute_result"
    }
   ],
   "source": [
    "df.shape"
   ]
  },
  {
   "cell_type": "code",
   "execution_count": 28,
   "id": "901655c6",
   "metadata": {},
   "outputs": [],
   "source": [
    "df = wrangle_functions.handle_missing_values(df)"
   ]
  },
  {
   "cell_type": "code",
   "execution_count": 29,
   "id": "4ada61b1",
   "metadata": {},
   "outputs": [
    {
     "data": {
      "text/plain": [
       "(68041, 14)"
      ]
     },
     "execution_count": 29,
     "metadata": {},
     "output_type": "execute_result"
    }
   ],
   "source": [
    "df.shape"
   ]
  },
  {
   "cell_type": "code",
   "execution_count": 30,
   "id": "4bfb4b0a",
   "metadata": {},
   "outputs": [],
   "source": [
    "# replace nulls with median values for lot_area\n",
    "df.lot_area.fillna(7313, inplace = True)"
   ]
  },
  {
   "cell_type": "code",
   "execution_count": 31,
   "id": "70a90719",
   "metadata": {},
   "outputs": [
    {
     "data": {
      "text/plain": [
       "parcelid                         0\n",
       "bathrooms                        0\n",
       "bedrooms                         0\n",
       "area                             5\n",
       "zipcode                          0\n",
       "latitude                         0\n",
       "longitude                        0\n",
       "lot_area                         0\n",
       "regionidcity                  1237\n",
       "structuretaxvaluedollarcnt      72\n",
       "tax_value                        4\n",
       "landtaxvaluedollarcnt            4\n",
       "taxamount                       81\n",
       "logerror                         0\n",
       "dtype: int64"
      ]
     },
     "execution_count": 31,
     "metadata": {},
     "output_type": "execute_result"
    }
   ],
   "source": [
    "# check for nulls values\n",
    "df.isna().sum()"
   ]
  },
  {
   "cell_type": "code",
   "execution_count": 32,
   "id": "50f541e6",
   "metadata": {},
   "outputs": [],
   "source": [
    "# drop columns with nulls for yearbuilt, taxvaluedollarcnt and taxamount to avoid target leakage\n",
    "df = df.dropna()"
   ]
  },
  {
   "cell_type": "code",
   "execution_count": 33,
   "id": "1a48ac2b",
   "metadata": {},
   "outputs": [
    {
     "data": {
      "text/plain": [
       "parcelid                        int64\n",
       "bathrooms                     float64\n",
       "bedrooms                      float64\n",
       "area                          float64\n",
       "zipcode                       float64\n",
       "latitude                      float64\n",
       "longitude                     float64\n",
       "lot_area                      float64\n",
       "regionidcity                  float64\n",
       "structuretaxvaluedollarcnt    float64\n",
       "tax_value                     float64\n",
       "landtaxvaluedollarcnt         float64\n",
       "taxamount                     float64\n",
       "logerror                      float64\n",
       "dtype: object"
      ]
     },
     "execution_count": 33,
     "metadata": {},
     "output_type": "execute_result"
    }
   ],
   "source": [
    "# let's check dtypes again now that I have the columns I want\n",
    "df.dtypes"
   ]
  },
  {
   "cell_type": "code",
   "execution_count": 34,
   "id": "48f9a5f3",
   "metadata": {},
   "outputs": [],
   "source": [
    "# correcting dtype\n",
    "#df.propertylandusetypeid.astype(object)"
   ]
  },
  {
   "cell_type": "code",
   "execution_count": 35,
   "id": "5df8e9ee",
   "metadata": {},
   "outputs": [
    {
     "data": {
      "text/plain": [
       "20                  6,037.00\n",
       "30                  6,037.00\n",
       "31                  6,037.00\n",
       "33                  6,037.00\n",
       "37                  6,037.00\n",
       "                ...         \n",
       "77609               6,037.00\n",
       "77610               6,037.00\n",
       "77611               6,037.00\n",
       "77612               6,037.00\n",
       "77613               6,037.00\n",
       "Name: zipcode, Length: 66703, dtype: object"
      ]
     },
     "execution_count": 35,
     "metadata": {},
     "output_type": "execute_result"
    }
   ],
   "source": [
    "# correcting dtype\n",
    "df.zipcode.astype(object)"
   ]
  },
  {
   "cell_type": "code",
   "execution_count": 36,
   "id": "3897505f",
   "metadata": {},
   "outputs": [],
   "source": [
    "# correcting dtype\n",
    "#df.regionidcounty.astype(object)"
   ]
  },
  {
   "cell_type": "code",
   "execution_count": 37,
   "id": "da1d38ce",
   "metadata": {},
   "outputs": [],
   "source": [
    "# I looked up the the average home size is 2,300 sqft so I will make that the cutoff \n",
    "# between a large and small home\n",
    "# here I want to divide the homes and insert into a column those that are more than 2,300 sqft\n",
    "df['large_home'] =(df['area']> 2300).astype(int)"
   ]
  },
  {
   "cell_type": "code",
   "execution_count": 38,
   "id": "2fa727a7",
   "metadata": {},
   "outputs": [
    {
     "data": {
      "text/plain": [
       "0    54253\n",
       "1    12450\n",
       "Name: large_home, dtype: int64"
      ]
     },
     "execution_count": 38,
     "metadata": {},
     "output_type": "execute_result"
    }
   ],
   "source": [
    "df.large_home.value_counts()"
   ]
  },
  {
   "cell_type": "code",
   "execution_count": 39,
   "id": "74cad6a7",
   "metadata": {},
   "outputs": [
    {
     "data": {
      "text/plain": [
       "parcelid                        int64\n",
       "bathrooms                     float64\n",
       "bedrooms                      float64\n",
       "area                          float64\n",
       "zipcode                       float64\n",
       "latitude                      float64\n",
       "longitude                     float64\n",
       "lot_area                      float64\n",
       "regionidcity                  float64\n",
       "structuretaxvaluedollarcnt    float64\n",
       "tax_value                     float64\n",
       "landtaxvaluedollarcnt         float64\n",
       "taxamount                     float64\n",
       "logerror                      float64\n",
       "large_home                      int64\n",
       "dtype: object"
      ]
     },
     "execution_count": 39,
     "metadata": {},
     "output_type": "execute_result"
    }
   ],
   "source": [
    "# check and change dtypes for each column\n",
    "df.dtypes"
   ]
  },
  {
   "cell_type": "code",
   "execution_count": 40,
   "id": "57e6ef4b",
   "metadata": {},
   "outputs": [
    {
     "data": {
      "text/plain": [
       "(66703, 15)"
      ]
     },
     "execution_count": 40,
     "metadata": {},
     "output_type": "execute_result"
    }
   ],
   "source": [
    "df.shape"
   ]
  },
  {
   "cell_type": "code",
   "execution_count": 41,
   "id": "a3841408",
   "metadata": {},
   "outputs": [
    {
     "data": {
      "text/html": [
       "<div>\n",
       "<style scoped>\n",
       "    .dataframe tbody tr th:only-of-type {\n",
       "        vertical-align: middle;\n",
       "    }\n",
       "\n",
       "    .dataframe tbody tr th {\n",
       "        vertical-align: top;\n",
       "    }\n",
       "\n",
       "    .dataframe thead th {\n",
       "        text-align: right;\n",
       "    }\n",
       "</style>\n",
       "<table border=\"1\" class=\"dataframe\">\n",
       "  <thead>\n",
       "    <tr style=\"text-align: right;\">\n",
       "      <th></th>\n",
       "      <th>bathrooms</th>\n",
       "      <th>bedrooms</th>\n",
       "      <th>area</th>\n",
       "      <th>zipcode</th>\n",
       "      <th>latitude</th>\n",
       "      <th>longitude</th>\n",
       "      <th>lot_area</th>\n",
       "      <th>regionidcity</th>\n",
       "      <th>tax_value</th>\n",
       "      <th>taxamount</th>\n",
       "      <th>logerror</th>\n",
       "      <th>large_home</th>\n",
       "    </tr>\n",
       "  </thead>\n",
       "  <tbody>\n",
       "    <tr>\n",
       "      <th>20</th>\n",
       "      <td>2.00</td>\n",
       "      <td>4.00</td>\n",
       "      <td>3,633.00</td>\n",
       "      <td>6,037.00</td>\n",
       "      <td>34,560,018.00</td>\n",
       "      <td>-118,169,806.00</td>\n",
       "      <td>9,826.00</td>\n",
       "      <td>40,227.00</td>\n",
       "      <td>296,425.00</td>\n",
       "      <td>6,941.39</td>\n",
       "      <td>0.04</td>\n",
       "      <td>1</td>\n",
       "    </tr>\n",
       "    <tr>\n",
       "      <th>30</th>\n",
       "      <td>2.00</td>\n",
       "      <td>2.00</td>\n",
       "      <td>1,090.00</td>\n",
       "      <td>6,037.00</td>\n",
       "      <td>33,974,100.00</td>\n",
       "      <td>-118,423,000.00</td>\n",
       "      <td>40,247.00</td>\n",
       "      <td>12,447.00</td>\n",
       "      <td>357,568.00</td>\n",
       "      <td>6,165.36</td>\n",
       "      <td>0.02</td>\n",
       "      <td>0</td>\n",
       "    </tr>\n",
       "    <tr>\n",
       "      <th>31</th>\n",
       "      <td>4.00</td>\n",
       "      <td>3.00</td>\n",
       "      <td>1,620.00</td>\n",
       "      <td>6,037.00</td>\n",
       "      <td>33,996,200.00</td>\n",
       "      <td>-118,438,000.00</td>\n",
       "      <td>7,313.00</td>\n",
       "      <td>12,447.00</td>\n",
       "      <td>847,770.00</td>\n",
       "      <td>10,244.94</td>\n",
       "      <td>-0.02</td>\n",
       "      <td>0</td>\n",
       "    </tr>\n",
       "    <tr>\n",
       "      <th>33</th>\n",
       "      <td>2.00</td>\n",
       "      <td>3.00</td>\n",
       "      <td>2,077.00</td>\n",
       "      <td>6,037.00</td>\n",
       "      <td>34,012,977.00</td>\n",
       "      <td>-118,479,243.00</td>\n",
       "      <td>6,490.00</td>\n",
       "      <td>26,964.00</td>\n",
       "      <td>646,760.00</td>\n",
       "      <td>7,924.68</td>\n",
       "      <td>-0.04</td>\n",
       "      <td>0</td>\n",
       "    </tr>\n",
       "    <tr>\n",
       "      <th>37</th>\n",
       "      <td>3.00</td>\n",
       "      <td>2.00</td>\n",
       "      <td>2,735.00</td>\n",
       "      <td>6,037.00</td>\n",
       "      <td>34,059,700.00</td>\n",
       "      <td>-118,439,000.00</td>\n",
       "      <td>7,313.00</td>\n",
       "      <td>12,447.00</td>\n",
       "      <td>2,922,104.00</td>\n",
       "      <td>34,982.17</td>\n",
       "      <td>0.03</td>\n",
       "      <td>1</td>\n",
       "    </tr>\n",
       "    <tr>\n",
       "      <th>...</th>\n",
       "      <td>...</td>\n",
       "      <td>...</td>\n",
       "      <td>...</td>\n",
       "      <td>...</td>\n",
       "      <td>...</td>\n",
       "      <td>...</td>\n",
       "      <td>...</td>\n",
       "      <td>...</td>\n",
       "      <td>...</td>\n",
       "      <td>...</td>\n",
       "      <td>...</td>\n",
       "      <td>...</td>\n",
       "    </tr>\n",
       "    <tr>\n",
       "      <th>77609</th>\n",
       "      <td>3.00</td>\n",
       "      <td>4.00</td>\n",
       "      <td>1,921.00</td>\n",
       "      <td>6,037.00</td>\n",
       "      <td>34,572,256.00</td>\n",
       "      <td>-118,024,872.00</td>\n",
       "      <td>6,763.00</td>\n",
       "      <td>40,227.00</td>\n",
       "      <td>162,019.00</td>\n",
       "      <td>2,860.33</td>\n",
       "      <td>0.02</td>\n",
       "      <td>0</td>\n",
       "    </tr>\n",
       "    <tr>\n",
       "      <th>77610</th>\n",
       "      <td>3.00</td>\n",
       "      <td>4.00</td>\n",
       "      <td>1,780.00</td>\n",
       "      <td>6,037.00</td>\n",
       "      <td>34,571,498.00</td>\n",
       "      <td>-118,039,412.00</td>\n",
       "      <td>6,822.00</td>\n",
       "      <td>40,227.00</td>\n",
       "      <td>125,923.00</td>\n",
       "      <td>2,394.26</td>\n",
       "      <td>0.01</td>\n",
       "      <td>0</td>\n",
       "    </tr>\n",
       "    <tr>\n",
       "      <th>77611</th>\n",
       "      <td>2.00</td>\n",
       "      <td>3.00</td>\n",
       "      <td>1,549.00</td>\n",
       "      <td>6,037.00</td>\n",
       "      <td>34,575,327.00</td>\n",
       "      <td>-118,054,267.00</td>\n",
       "      <td>6,987.00</td>\n",
       "      <td>40,227.00</td>\n",
       "      <td>198,988.00</td>\n",
       "      <td>3,331.81</td>\n",
       "      <td>0.04</td>\n",
       "      <td>0</td>\n",
       "    </tr>\n",
       "    <tr>\n",
       "      <th>77612</th>\n",
       "      <td>3.00</td>\n",
       "      <td>3.00</td>\n",
       "      <td>1,339.00</td>\n",
       "      <td>6,037.00</td>\n",
       "      <td>34,572,200.00</td>\n",
       "      <td>-118,053,000.00</td>\n",
       "      <td>271,458.00</td>\n",
       "      <td>40,227.00</td>\n",
       "      <td>148,600.00</td>\n",
       "      <td>2,510.53</td>\n",
       "      <td>0.01</td>\n",
       "      <td>0</td>\n",
       "    </tr>\n",
       "    <tr>\n",
       "      <th>77613</th>\n",
       "      <td>3.00</td>\n",
       "      <td>4.00</td>\n",
       "      <td>2,059.00</td>\n",
       "      <td>6,037.00</td>\n",
       "      <td>34,561,927.00</td>\n",
       "      <td>-118,052,811.00</td>\n",
       "      <td>7,021.00</td>\n",
       "      <td>40,227.00</td>\n",
       "      <td>130,296.00</td>\n",
       "      <td>2,470.35</td>\n",
       "      <td>-0.20</td>\n",
       "      <td>0</td>\n",
       "    </tr>\n",
       "  </tbody>\n",
       "</table>\n",
       "<p>66703 rows × 12 columns</p>\n",
       "</div>"
      ],
      "text/plain": [
       "                 bathrooms             bedrooms                 area  \\\n",
       "20                    2.00                 4.00             3,633.00   \n",
       "30                    2.00                 2.00             1,090.00   \n",
       "31                    4.00                 3.00             1,620.00   \n",
       "33                    2.00                 3.00             2,077.00   \n",
       "37                    3.00                 2.00             2,735.00   \n",
       "...                    ...                  ...                  ...   \n",
       "77609                 3.00                 4.00             1,921.00   \n",
       "77610                 3.00                 4.00             1,780.00   \n",
       "77611                 2.00                 3.00             1,549.00   \n",
       "77612                 3.00                 3.00             1,339.00   \n",
       "77613                 3.00                 4.00             2,059.00   \n",
       "\n",
       "                   zipcode             latitude            longitude  \\\n",
       "20                6,037.00        34,560,018.00      -118,169,806.00   \n",
       "30                6,037.00        33,974,100.00      -118,423,000.00   \n",
       "31                6,037.00        33,996,200.00      -118,438,000.00   \n",
       "33                6,037.00        34,012,977.00      -118,479,243.00   \n",
       "37                6,037.00        34,059,700.00      -118,439,000.00   \n",
       "...                    ...                  ...                  ...   \n",
       "77609             6,037.00        34,572,256.00      -118,024,872.00   \n",
       "77610             6,037.00        34,571,498.00      -118,039,412.00   \n",
       "77611             6,037.00        34,575,327.00      -118,054,267.00   \n",
       "77612             6,037.00        34,572,200.00      -118,053,000.00   \n",
       "77613             6,037.00        34,561,927.00      -118,052,811.00   \n",
       "\n",
       "                  lot_area         regionidcity            tax_value  \\\n",
       "20                9,826.00            40,227.00           296,425.00   \n",
       "30               40,247.00            12,447.00           357,568.00   \n",
       "31                7,313.00            12,447.00           847,770.00   \n",
       "33                6,490.00            26,964.00           646,760.00   \n",
       "37                7,313.00            12,447.00         2,922,104.00   \n",
       "...                    ...                  ...                  ...   \n",
       "77609             6,763.00            40,227.00           162,019.00   \n",
       "77610             6,822.00            40,227.00           125,923.00   \n",
       "77611             6,987.00            40,227.00           198,988.00   \n",
       "77612           271,458.00            40,227.00           148,600.00   \n",
       "77613             7,021.00            40,227.00           130,296.00   \n",
       "\n",
       "                 taxamount             logerror  large_home  \n",
       "20                6,941.39                 0.04           1  \n",
       "30                6,165.36                 0.02           0  \n",
       "31               10,244.94                -0.02           0  \n",
       "33                7,924.68                -0.04           0  \n",
       "37               34,982.17                 0.03           1  \n",
       "...                    ...                  ...         ...  \n",
       "77609             2,860.33                 0.02           0  \n",
       "77610             2,394.26                 0.01           0  \n",
       "77611             3,331.81                 0.04           0  \n",
       "77612             2,510.53                 0.01           0  \n",
       "77613             2,470.35                -0.20           0  \n",
       "\n",
       "[66703 rows x 12 columns]"
      ]
     },
     "execution_count": 41,
     "metadata": {},
     "output_type": "execute_result"
    }
   ],
   "source": [
    "#drop propertylanusetypeid, parcelid, propertylandusedesc, landtaxvaluedollarcnt,structuretaxvaluedollarcnt\n",
    "df.drop(columns = ['parcelid','landtaxvaluedollarcnt', 'structuretaxvaluedollarcnt'])"
   ]
  },
  {
   "cell_type": "code",
   "execution_count": 42,
   "id": "868bc4d9",
   "metadata": {},
   "outputs": [],
   "source": [
    "# remove duplicate entries\n",
    "# sorting by first name\n",
    "df.sort_values(\"parcelid\", inplace=True)\n",
    " \n",
    "# dropping duplicate values\n",
    "df.drop_duplicates(keep=False,inplace=True)"
   ]
  },
  {
   "cell_type": "code",
   "execution_count": 43,
   "id": "50bee5fc",
   "metadata": {},
   "outputs": [
    {
     "data": {
      "text/plain": [
       "(66703, 15)"
      ]
     },
     "execution_count": 43,
     "metadata": {},
     "output_type": "execute_result"
    }
   ],
   "source": [
    "# this shows me there were no existing duplicates\n",
    "df.shape"
   ]
  },
  {
   "cell_type": "code",
   "execution_count": 44,
   "id": "9d98328e",
   "metadata": {},
   "outputs": [],
   "source": [
    "# Columns to look for extreme outliers, taxx_value and area\n",
    "df = df[df.tax_value < 5_000_000]\n",
    "df = df[df.area < 8000]"
   ]
  },
  {
   "cell_type": "code",
   "execution_count": 45,
   "id": "2b1d4696",
   "metadata": {},
   "outputs": [
    {
     "data": {
      "text/plain": [
       "(66515, 15)"
      ]
     },
     "execution_count": 45,
     "metadata": {},
     "output_type": "execute_result"
    }
   ],
   "source": [
    "# that dropped a couple hundred outliers\n",
    "df.shape"
   ]
  },
  {
   "cell_type": "code",
   "execution_count": 56,
   "id": "30149196",
   "metadata": {},
   "outputs": [
    {
     "data": {
      "text/plain": [
       "array([[<AxesSubplot:title={'center':'parcelid'}>,\n",
       "        <AxesSubplot:title={'center':'bathrooms'}>,\n",
       "        <AxesSubplot:title={'center':'bedrooms'}>,\n",
       "        <AxesSubplot:title={'center':'area'}>],\n",
       "       [<AxesSubplot:title={'center':'zipcode'}>,\n",
       "        <AxesSubplot:title={'center':'latitude'}>,\n",
       "        <AxesSubplot:title={'center':'longitude'}>,\n",
       "        <AxesSubplot:title={'center':'lot_area'}>],\n",
       "       [<AxesSubplot:title={'center':'regionidcity'}>,\n",
       "        <AxesSubplot:title={'center':'structuretaxvaluedollarcnt'}>,\n",
       "        <AxesSubplot:title={'center':'tax_value'}>,\n",
       "        <AxesSubplot:title={'center':'landtaxvaluedollarcnt'}>],\n",
       "       [<AxesSubplot:title={'center':'taxamount'}>,\n",
       "        <AxesSubplot:title={'center':'logerror'}>,\n",
       "        <AxesSubplot:title={'center':'large_home'}>, <AxesSubplot:>]],\n",
       "      dtype=object)"
      ]
     },
     "execution_count": 56,
     "metadata": {},
     "output_type": "execute_result"
    },
    {
     "data": {
      "text/plain": [
       "<Figure size 576x864 with 0 Axes>"
      ]
     },
     "metadata": {},
     "output_type": "display_data"
    },
    {
     "data": {
      "image/png": "[encoded data removed]",
      "text/plain": [
       "<Figure size 432x288 with 16 Axes>"
      ]
     },
     "metadata": {
      "needs_background": "light"
     },
     "output_type": "display_data"
    }
   ],
   "source": [
    "plt.figure(figsize=(8, 12))\n",
    "df.hist()"
   ]
  },
  {
   "cell_type": "code",
   "execution_count": 46,
   "id": "a12f1155",
   "metadata": {},
   "outputs": [],
   "source": [
    "# now I want to make a df with minimal outliers in any column for \n",
    "# comparison in performance in modeling\n",
    "def outlier_function(df,cols, k):\n",
    "#function to detect and handle oulier using IQR rule\n",
    "    df_out = pd.DataFrame()\n",
    "    for col in cols:\n",
    "        q1 = df[col].quantile(0.25)\n",
    "        q3 = df[col].quantile(0.75)\n",
    "        iqr = q3 - q1\n",
    "        upper_bound =  q3 + k * iqr\n",
    "        lower_bound =  q1 - k * iqr\n",
    "        new_data = df[(df[col] > upper_bound) | (df[col] < lower_bound)]\n",
    "        missing_index = new_data.index.difference(df_out.index)\n",
    "        df_out = df_out.append(new_data.loc[missing_index, : ])\n",
    "    return df_out"
   ]
  },
  {
   "cell_type": "code",
   "execution_count": 47,
   "id": "a1e46259",
   "metadata": {},
   "outputs": [],
   "source": [
    "df_out = outlier_function(df,df.columns,.5)"
   ]
  },
  {
   "cell_type": "code",
   "execution_count": 48,
   "id": "1f64ca82",
   "metadata": {},
   "outputs": [
    {
     "data": {
      "text/plain": [
       "(52458, 15)"
      ]
     },
     "execution_count": 48,
     "metadata": {},
     "output_type": "execute_result"
    }
   ],
   "source": [
    "df_out.shape"
   ]
  },
  {
   "cell_type": "code",
   "execution_count": 54,
   "id": "1d7ac18a",
   "metadata": {},
   "outputs": [
    {
     "data": {
      "image/png": "[encoded data removed]",
      "text/plain": [
       "<Figure size 432x288 with 1 Axes>"
      ]
     },
     "metadata": {
      "needs_background": "light"
     },
     "output_type": "display_data"
    },
    {
     "data": {
      "image/png": "[encoded data removed]",
      "text/plain": [
       "<Figure size 432x288 with 1 Axes>"
      ]
     },
     "metadata": {
      "needs_background": "light"
     },
     "output_type": "display_data"
    },
    {
     "data": {
      "image/png": "[encoded data removed]",
      "text/plain": [
       "<Figure size 432x288 with 1 Axes>"
      ]
     },
     "metadata": {
      "needs_background": "light"
     },
     "output_type": "display_data"
    },
    {
     "data": {
      "image/png": "[encoded data removed]",
      "text/plain": [
       "<Figure size 432x288 with 1 Axes>"
      ]
     },
     "metadata": {
      "needs_background": "light"
     },
     "output_type": "display_data"
    },
    {
     "data": {
      "image/png": "[encoded data removed]",
      "text/plain": [
       "<Figure size 432x288 with 1 Axes>"
      ]
     },
     "metadata": {
      "needs_background": "light"
     },
     "output_type": "display_data"
    },
    {
     "data": {
      "image/png": "[encoded data removed]",
      "text/plain": [
       "<Figure size 432x288 with 1 Axes>"
      ]
     },
     "metadata": {
      "needs_background": "light"
     },
     "output_type": "display_data"
    },
    {
     "data": {
      "image/png": "[encoded data removed]",
      "text/plain": [
       "<Figure size 432x288 with 1 Axes>"
      ]
     },
     "metadata": {
      "needs_background": "light"
     },
     "output_type": "display_data"
    },
    {
     "data": {
      "image/png": "[encoded data removed]",
      "text/plain": [
       "<Figure size 432x288 with 1 Axes>"
      ]
     },
     "metadata": {
      "needs_background": "light"
     },
     "output_type": "display_data"
    },
    {
     "data": {
      "image/png": "[encoded data removed]",
      "text/plain": [
       "<Figure size 432x288 with 1 Axes>"
      ]
     },
     "metadata": {
      "needs_background": "light"
     },
     "output_type": "display_data"
    },
    {
     "data": {
      "image/png": "[encoded data removed]",
      "text/plain": [
       "<Figure size 432x288 with 1 Axes>"
      ]
     },
     "metadata": {
      "needs_background": "light"
     },
     "output_type": "display_data"
    },
    {
     "data": {
      "image/png": "[encoded data removed]",
      "text/plain": [
       "<Figure size 432x288 with 1 Axes>"
      ]
     },
     "metadata": {
      "needs_background": "light"
     },
     "output_type": "display_data"
    }
   ],
   "source": [
    "# here are boxplots for columns with some outliers removed\n",
    "for col in df.drop(columns=['parcelid','zipcode','regionidcity','large_home']):\n",
    "    sns.boxplot(df[col])\n",
    "    plt.title(col)\n",
    "    plt.show()"
   ]
  },
  {
   "cell_type": "code",
   "execution_count": null,
   "id": "22be96d2",
   "metadata": {},
   "outputs": [],
   "source": [
    "# here are boxplots for all columns with outliers removed\n",
    "for col in df_out.drop(columns=['parcelid','zipcode','regionidcity','large_home']):\n",
    "    sns.boxplot(df_out[col])\n",
    "    plt.title(col)\n",
    "    plt.show()"
   ]
  },
  {
   "cell_type": "code",
   "execution_count": 50,
   "id": "613acf3a",
   "metadata": {},
   "outputs": [
    {
     "data": {
      "text/plain": [
       "Index(['parcelid', 'bathrooms', 'bedrooms', 'area', 'zipcode', 'latitude',\n",
       "       'longitude', 'lot_area', 'regionidcity', 'structuretaxvaluedollarcnt',\n",
       "       'tax_value', 'landtaxvaluedollarcnt', 'taxamount', 'logerror',\n",
       "       'large_home'],\n",
       "      dtype='object')"
      ]
     },
     "execution_count": 50,
     "metadata": {},
     "output_type": "execute_result"
    }
   ],
   "source": [
    "df.columns"
   ]
  },
  {
   "cell_type": "code",
   "execution_count": 51,
   "id": "af487f7f",
   "metadata": {},
   "outputs": [],
   "source": [
    "# #defining the columns to remove outliers from\n",
    "# cols = ['bathrooms', 'bedrooms',\n",
    "#        'area','lot_area','tax_value',\n",
    "#        'taxamount']\n",
    "# k= 3\n",
    "# # create a df with no outliers \n",
    "# df_no_outs =outlier_function(df,cols, k)"
   ]
  },
  {
   "cell_type": "code",
   "execution_count": 52,
   "id": "d2c8f0c9",
   "metadata": {},
   "outputs": [],
   "source": [
    "#df_no_outs.shape"
   ]
  },
  {
   "cell_type": "code",
   "execution_count": 53,
   "id": "274d766e",
   "metadata": {},
   "outputs": [
    {
     "data": {
      "text/plain": [
       "(66515, 15)"
      ]
     },
     "execution_count": 53,
     "metadata": {},
     "output_type": "execute_result"
    }
   ],
   "source": [
    "df.shape"
   ]
  },
  {
   "cell_type": "code",
   "execution_count": null,
   "id": "a1081bbd",
   "metadata": {},
   "outputs": [],
   "source": [
    "# time to split the df in prepartion for exploration\n",
    "train, validate, test, X_train, y_train, X_validate, y_validate, X_test, y_test = prepare.train_validate_test(df,'logerror')"
   ]
  },
  {
   "cell_type": "code",
   "execution_count": null,
   "id": "fcaad3d4",
   "metadata": {},
   "outputs": [],
   "source": [
    "train.shape"
   ]
  },
  {
   "cell_type": "code",
   "execution_count": null,
   "id": "17a0bc99",
   "metadata": {},
   "outputs": [],
   "source": [
    "X_train.head()"
   ]
  },
  {
   "cell_type": "code",
   "execution_count": null,
   "id": "830520ec",
   "metadata": {},
   "outputs": [],
   "source": [
    "# I am splitting the df_no_outs into train, test, split but with no outliers\n",
    "#train_no_outs, validate_no_outs, test_no_outs, X_train_no_outs, y_train_no_outs, X_validate_no_outs, y_validate_no_outs, X_test_no_outs, y_test_no_outs = prepare.train_validate_test(df_no_outs,df.logerror)"
   ]
  },
  {
   "cell_type": "code",
   "execution_count": null,
   "id": "9e90c2ca",
   "metadata": {},
   "outputs": [],
   "source": [
    "# # just the regular split of the regular df\n",
    "# train, validate, test = prepare.train_validate_test(df, 'logerror')"
   ]
  },
  {
   "cell_type": "code",
   "execution_count": null,
   "id": "5b537b8e",
   "metadata": {},
   "outputs": [],
   "source": [
    "train.head()"
   ]
  },
  {
   "cell_type": "code",
   "execution_count": null,
   "id": "577e650b",
   "metadata": {},
   "outputs": [],
   "source": [
    "# now I will create a df that is scaled\n",
    "_, train_scaled, validate_scaled, test_scaled = wrangle_functions.min_max_scaler(train, validate, test)"
   ]
  },
  {
   "cell_type": "code",
   "execution_count": null,
   "id": "be1b7ee0",
   "metadata": {},
   "outputs": [],
   "source": [
    "train.head()"
   ]
  },
  {
   "cell_type": "code",
   "execution_count": null,
   "id": "0ccf0231",
   "metadata": {},
   "outputs": [],
   "source": [
    "train.shape"
   ]
  },
  {
   "cell_type": "markdown",
   "id": "d8e13517",
   "metadata": {},
   "source": [
    "**************************************************************************************** Prepare Takeaways"
   ]
  },
  {
   "cell_type": "code",
   "execution_count": null,
   "id": "dd2aa429",
   "metadata": {},
   "outputs": [],
   "source": [
    "############################################################################ EXPLORE"
   ]
  },
  {
   "cell_type": "markdown",
   "id": "a99d2bcc",
   "metadata": {},
   "source": [
    "The topics of interest I would like to explore are:\n",
    "\n",
    "    1. Is there a relationship between home lot_area and logerror?\n",
    "    2. Is there a difference in logerror between small and large houses?(Viz size against logerror -Stats test      to confirm)\n",
    "    \n",
    "   "
   ]
  },
  {
   "cell_type": "code",
   "execution_count": null,
   "id": "a5fca0a9",
   "metadata": {},
   "outputs": [],
   "source": [
    "#train.drop(columns=['regionidcounty'])"
   ]
  },
  {
   "cell_type": "code",
   "execution_count": null,
   "id": "e731e5e0",
   "metadata": {},
   "outputs": [],
   "source": [
    "# First let's look at the distribution of each variable\n",
    "fig, axs = plt.subplots(2, 5, figsize=(15, 7))\n",
    "\n",
    "for ax, col in zip(axs.flatten(), train.select_dtypes(float)):\n",
    "    df[col].plot.hist(ax=ax,bins=20, title=col, ec='black')"
   ]
  },
  {
   "cell_type": "markdown",
   "id": "1a833aeb",
   "metadata": {},
   "source": [
    "1. Is there a difference in logerror between small and large houses?(Viz size           against logerror -Stats test to confirm)"
   ]
  },
  {
   "cell_type": "code",
   "execution_count": null,
   "id": "9023872a",
   "metadata": {},
   "outputs": [],
   "source": [
    "#see what correlates most with logerror with heatmap\n",
    "plt.figure(figsize=(8, 12))\n",
    "heatmap = sns.heatmap(df.corr()[['logerror']].sort_values(by='logerror', ascending=False), vmin=-1, vmax=1, annot=True, cmap='mako_r')\n",
    "heatmap.set_title('Features Correlating with Logerror', fontdict={'fontsize':18}, pad=16)"
   ]
  },
  {
   "cell_type": "code",
   "execution_count": null,
   "id": "fb0997f0",
   "metadata": {},
   "outputs": [],
   "source": [
    "# choosing my features\n",
    "X = train[['area', 'lot_area']]"
   ]
  },
  {
   "cell_type": "code",
   "execution_count": null,
   "id": "8784d824",
   "metadata": {},
   "outputs": [],
   "source": [
    "# same for the scaled X\n",
    "X_scaled = train_scaled[['area', 'lot_area']]"
   ]
  },
  {
   "cell_type": "code",
   "execution_count": null,
   "id": "12bfe51a",
   "metadata": {},
   "outputs": [],
   "source": [
    "# look at distribution of logerror length and large_home\n",
    "\n",
    "X.hist()"
   ]
  },
  {
   "cell_type": "code",
   "execution_count": null,
   "id": "6732db7f",
   "metadata": {},
   "outputs": [],
   "source": [
    "X_scaled.hist()"
   ]
  },
  {
   "cell_type": "code",
   "execution_count": null,
   "id": "541a4eae",
   "metadata": {},
   "outputs": [],
   "source": [
    "# sklearn implementation of KMeans\n",
    "\n",
    "#define it\n",
    "kmeans_scaled = KMeans(n_clusters=3, random_state=777)\n",
    "\n",
    "# fit it\n",
    "kmeans_scaled.fit(X_scaled)\n",
    "\n",
    "# Use/predict it\n",
    "kmeans_scaled.predict(X_scaled)"
   ]
  },
  {
   "cell_type": "code",
   "execution_count": null,
   "id": "4778e21c",
   "metadata": {},
   "outputs": [],
   "source": [
    "# sklearn implementation of KMeans on unscaled X\n",
    "\n",
    "#define it\n",
    "kmeans = KMeans(n_clusters=3, random_state=777)\n",
    "\n",
    "# fit it\n",
    "kmeans.fit(X)\n",
    "\n",
    "# Use/predict it\n",
    "kmeans.predict(X)"
   ]
  },
  {
   "cell_type": "code",
   "execution_count": null,
   "id": "7afadd74",
   "metadata": {},
   "outputs": [],
   "source": [
    "# make a new column names cluster in df and X_scaled dataframe and X dataframe\n",
    "cluster_features = ['area', 'lot_area']\n",
    "X['cluster'] = kmeans.predict(X[cluster_features])\n",
    "\n",
    "X['scaled_cluster'] = kmeans_scaled.predict(X_scaled[cluster_features])\n",
    "\n",
    "X_scaled['cluster'] = kmeans.predict(X[cluster_features])\n",
    "\n",
    "X_scaled['scaled_cluster'] = kmeans_scaled.predict(X_scaled[cluster_features])"
   ]
  },
  {
   "cell_type": "code",
   "execution_count": null,
   "id": "de4b6189",
   "metadata": {},
   "outputs": [],
   "source": [
    "# taking a peek at the unscaled data\n",
    "X.head()"
   ]
  },
  {
   "cell_type": "code",
   "execution_count": null,
   "id": "f0fbddeb",
   "metadata": {},
   "outputs": [],
   "source": [
    "X_scaled.head()"
   ]
  },
  {
   "cell_type": "code",
   "execution_count": null,
   "id": "b9e4a079",
   "metadata": {},
   "outputs": [],
   "source": [
    "centroids = X.groupby('cluster')['area', 'lot_area'].mean()"
   ]
  },
  {
   "cell_type": "code",
   "execution_count": null,
   "id": "18f094dc",
   "metadata": {},
   "outputs": [],
   "source": [
    "# now I am going to plot the unscaled features\n",
    "plt.figure(figsize=(14, 9))\n",
    "\n",
    "for cluster, subset in X.groupby('cluster'):\n",
    "    plt.scatter(subset.area, subset.lot_area, label='cluster ' + str(cluster), alpha=.6, cmap='reds')\n",
    "centroids.plot.scatter(y='lot_area', x='area', c='black', marker='x', s=1000, ax=plt.gca(), label='centroid')\n",
    "\n",
    "\n",
    "plt.legend()\n",
    "plt.xlabel('Area')\n",
    "plt.ylabel('Lot Area')\n",
    "plt.title('Visualizing Clusters')\n",
    "plt.show()"
   ]
  },
  {
   "cell_type": "code",
   "execution_count": null,
   "id": "319ed2f6",
   "metadata": {},
   "outputs": [],
   "source": [
    "# # One column per home size \n",
    "# # One color/shape for each cluster label\n",
    "# sns.relplot(x=\"area\", y=\"lot_area\", hue=\"logerror\", col=\"large_home\", palette=\"deep\", data=train)"
   ]
  },
  {
   "cell_type": "code",
   "execution_count": null,
   "id": "d0c4cc6b",
   "metadata": {},
   "outputs": [],
   "source": [
    "centroids = X_scaled.groupby('scaled_cluster')['area', 'lot_area'].mean()"
   ]
  },
  {
   "cell_type": "code",
   "execution_count": null,
   "id": "05989b62",
   "metadata": {},
   "outputs": [],
   "source": [
    "# now I am going to plot the unscaled features\n",
    "plt.figure(figsize=(14, 9))\n",
    "\n",
    "for cluster, subset in X_scaled.groupby('scaled_cluster'):\n",
    "    plt.scatter(subset.area, subset.lot_area, label='scaled cluster ' + str(cluster), alpha=.6, cmap='reds')\n",
    "centroids.plot.scatter(y='lot_area', x='area', c='black', marker='x', s=1000, ax=plt.gca(), label='centroid')\n",
    "\n",
    "\n",
    "plt.legend()\n",
    "plt.xlabel('Area')\n",
    "plt.ylabel('Lot Area')\n",
    "plt.title('Visualizing Clusters Scaled')\n",
    "plt.show()"
   ]
  },
  {
   "cell_type": "code",
   "execution_count": null,
   "id": "1557ab2d",
   "metadata": {},
   "outputs": [],
   "source": [
    "# # getting error here\n",
    "# # One column per home size \n",
    "# # One color/shape for each cluster label\n",
    "# sns.relplot(x=\"area\", y=\"lot_area\", hue=\"logerror\", col=\"large_home\", palette=\"deep\", data=train_scaled)"
   ]
  },
  {
   "cell_type": "code",
   "execution_count": null,
   "id": "3efaca9e",
   "metadata": {},
   "outputs": [],
   "source": [
    "train.head()"
   ]
  },
  {
   "cell_type": "code",
   "execution_count": null,
   "id": "3d7bc09a",
   "metadata": {},
   "outputs": [],
   "source": [
    "train_scaled.head()"
   ]
  },
  {
   "cell_type": "code",
   "execution_count": null,
   "id": "84e0de00",
   "metadata": {},
   "outputs": [],
   "source": [
    "# building a correlation figure\n",
    "target = train.logerror\n",
    "def target_heat(df, target, method='pearson'):\n",
    "    '''\n",
    "    Use seaborn to create heatmap with coeffecient annotations to\n",
    "    visualize correlation between all variables\n",
    "    '''\n",
    "\n",
    "    # define variable for corr matrix\n",
    "    heat_churn = train.corr()[target][:-1]\n",
    "    # set figure size\n",
    "    fig, ax = plt.subplots(figsize=(30, 1))\n",
    "    # define cmap for chosen color palette\n",
    "    cmap = sns.diverging_palette(h_neg=220, h_pos=13, sep=25, as_cmap=True)\n",
    "    # plot matrix turned to DataFrame\n",
    "    sns.heatmap(heat_churn.to_frame().T, cmap=cmap, center=0,\n",
    "                annot=True, fmt=\".1g\", cbar=False, square=True)\n",
    "    #  improve readability of xticks, remove churn ytick\n",
    "    plt.xticks(ha='right', va='top', rotation=35, rotation_mode='anchor')\n",
    "    plt.yticks(ticks=[])\n",
    "    # set title and print graphic\n",
    "    plt.title(f'Correlation to {target}\\n')\n",
    "    plt.show()\n"
   ]
  },
  {
   "cell_type": "code",
   "execution_count": null,
   "id": "1daed933",
   "metadata": {},
   "outputs": [],
   "source": [
    "train.columns"
   ]
  },
  {
   "cell_type": "code",
   "execution_count": null,
   "id": "b4c7b6d7",
   "metadata": {},
   "outputs": [],
   "source": [
    "# create heatmap to find any obvious correlations to target\n",
    "target_heat(train.drop(\n",
    "    columns=['parcelid','regionidcity','zipcode',\n",
    "             'tax_value']), 'logerror')"
   ]
  },
  {
   "cell_type": "markdown",
   "id": "618cff55",
   "metadata": {},
   "source": [
    "-now I want to perform a pearson r test on logerror and area to check for linear correlation and check the\n",
    "strength of the correlation\n",
    "alpha = .05\n",
    "H0: There is no linear correlation between area and logerror"
   ]
  },
  {
   "cell_type": "code",
   "execution_count": null,
   "id": "4d115b88",
   "metadata": {},
   "outputs": [],
   "source": [
    "test_results = stats.pearsonr(train.lot_area, train.logerror)\n",
    "test_results"
   ]
  },
  {
   "cell_type": "code",
   "execution_count": null,
   "id": "f229e73d",
   "metadata": {},
   "outputs": [],
   "source": [
    "# the r-value is .0015\n",
    "# the p-value is very high therefore we must fail to reject the HO and accept that there is not significant correlations\n",
    "# between lot_area and logerror"
   ]
  },
  {
   "cell_type": "code",
   "execution_count": null,
   "id": "a223b37b",
   "metadata": {},
   "outputs": [],
   "source": [
    "## now I will conduct a  correlation test on longitude because the heat map showed good correlation value with \n",
    "# target variable.\n",
    "\n",
    "## Now we test it to determine if it is a significant relationship\n",
    "\n",
    "corr, p = stats.pearsonr(train.longitude, train.logerror)\n",
    "corr, p"
   ]
  },
  {
   "cell_type": "markdown",
   "id": "9b111fcd",
   "metadata": {},
   "source": [
    "-a correlation of 0.03 and a p value less than our alpha 0.05 we can conclude that there is evidence to suggest there is a significant realtionship between the longitude of a home and it logerror, thus accepting the alternate hypothesis"
   ]
  },
  {
   "cell_type": "code",
   "execution_count": null,
   "id": "6e0d17ee",
   "metadata": {},
   "outputs": [],
   "source": []
  },
  {
   "cell_type": "code",
   "execution_count": null,
   "id": "1ce6c77c",
   "metadata": {},
   "outputs": [],
   "source": [
    "# next I will explore my 2nd hypothesis\n",
    "#Is there a differnce in logerror between area of a home (large_home)?"
   ]
  },
  {
   "cell_type": "code",
   "execution_count": null,
   "id": "9d4efb71",
   "metadata": {},
   "outputs": [],
   "source": [
    "# here is a violinplot to help us answer that question\n",
    "sns.violinplot(data=train, y='logerror', x='large_home')"
   ]
  },
  {
   "cell_type": "markdown",
   "id": "283df90a",
   "metadata": {},
   "source": [
    "**Takeaways**\n",
    "the violin chart seems to say yes there is more logerror for larger homes"
   ]
  },
  {
   "cell_type": "code",
   "execution_count": null,
   "id": "024c1204",
   "metadata": {},
   "outputs": [],
   "source": [
    "# here is a violinplot to help us answer that question this time with no outliers\n",
    "sns.violinplot(data=train, y='logerror', x='large_home')"
   ]
  },
  {
   "cell_type": "markdown",
   "id": "00dc1a94",
   "metadata": {},
   "source": [
    "**Takeaways**\n",
    "without the outliers it looks like there is more logerror in small homes\n",
    "considering the plot above this with outliers I can't come to any conclusion"
   ]
  },
  {
   "cell_type": "code",
   "execution_count": null,
   "id": "0b573fcd",
   "metadata": {},
   "outputs": [],
   "source": [
    "# now let's look at it with a boxplot\n",
    "sns.boxplot(data=train, y='logerror', x='large_home')\n",
    "plt.title(\"Is there a difference in logerror for large homes?\")"
   ]
  },
  {
   "cell_type": "markdown",
   "id": "daa201f2",
   "metadata": {},
   "source": [
    "**Takeaway**\n",
    "I can't see any significant difference in logerror between the small and large homes"
   ]
  },
  {
   "cell_type": "markdown",
   "id": "6e1dab8f",
   "metadata": {},
   "source": [
    "**Takeaway**\n",
    "I can't see any significant difference in logerror between the small and large homes"
   ]
  },
  {
   "cell_type": "code",
   "execution_count": null,
   "id": "41316921",
   "metadata": {},
   "outputs": [],
   "source": [
    "#let's try a barplot to visualize the difference\n",
    "sns.barplot(data=train, y='logerror', x='large_home')"
   ]
  },
  {
   "cell_type": "markdown",
   "id": "de989ad0",
   "metadata": {},
   "source": [
    "**Takeaways**\n",
    "There is slightly higher logerror in large homes"
   ]
  },
  {
   "cell_type": "markdown",
   "id": "a2951a0f",
   "metadata": {},
   "source": [
    "alpha= .05\n",
    "HO: There is no difference in logerror between large and small homes.\n",
    "HA: There is a difference in logerror between large and small homes."
   ]
  },
  {
   "cell_type": "code",
   "execution_count": null,
   "id": "44d20464",
   "metadata": {},
   "outputs": [],
   "source": [
    "# I am going to use a Pearson R test because I will compare two continuous values, logerror and area\n",
    "test_results = stats.pearsonr(train.area, train.logerror)\n",
    "test_results"
   ]
  },
  {
   "cell_type": "code",
   "execution_count": null,
   "id": "43aa86c8",
   "metadata": {},
   "outputs": [],
   "source": [
    "# the test statistic r at -0.00016509 shows these two are NOT strongly inversely correlated\n",
    "# the p value is way above the alpha so we fail to reject the HO\n",
    "# There is no significant difference betweeen logerror in large homes compared to small homes."
   ]
  },
  {
   "cell_type": "code",
   "execution_count": null,
   "id": "5a5fdcd2",
   "metadata": {},
   "outputs": [],
   "source": [
    "# Scale the datasets\n",
    "scaler = MinMaxScaler()\n",
    "cols = train.drop(columns=[\"logerror\"]).columns.tolist()\n",
    "\n",
    "# .copy() makes a copy\n",
    "# this is an alternative to wrapping the scaled numpy array in a pd.Dataframe()\n",
    "train_scaled = train.copy()\n",
    "validate_scaled = validate.copy()\n",
    "test_scaled = test.copy()\n",
    "\n",
    "# apply our scaler (fit only on train!)\n",
    "train_scaled[cols] = scaler.fit_transform(train[cols])\n",
    "validate_scaled[cols] = scaler.transform(validate[cols])\n",
    "test_scaled[cols] = scaler.transform(test[cols])"
   ]
  },
  {
   "cell_type": "code",
   "execution_count": null,
   "id": "aa392133",
   "metadata": {},
   "outputs": [],
   "source": [
    "train_scaled.head()"
   ]
  },
  {
   "cell_type": "code",
   "execution_count": null,
   "id": "919a7e47",
   "metadata": {},
   "outputs": [],
   "source": [
    "# Fit K-Means \n",
    "X = train_scaled[[\"area\", \"large_home\"]]\n",
    "kmeans = KMeans(n_clusters=3)\n",
    "kmeans.fit(X)\n",
    "\n",
    "train_scaled['cluster'] = kmeans.predict(X)\n",
    "train_scaled.head()"
   ]
  },
  {
   "cell_type": "code",
   "execution_count": null,
   "id": "4282f2ff",
   "metadata": {},
   "outputs": [],
   "source": [
    "# visualize w/ hue=\"logerror\" style=\"cluster\" with scaled data\n",
    "sns.relplot(x=\"large_home\", y=\"area\", hue=\"logerror\", col=\"cluster\",palette = 'Purples', data=train_scaled)"
   ]
  },
  {
   "cell_type": "code",
   "execution_count": null,
   "id": "99417b50",
   "metadata": {},
   "outputs": [],
   "source": [
    "def get_inertia(k):\n",
    "    return KMeans(k).fit(X).inertia_\n",
    "\n",
    "plt.figure(figsize=(13, 7))\n",
    "\n",
    "df = pd.Series([get_inertia(k) for k in range(2, 13)]).plot()\n",
    "\n",
    "plt.xlabel('k')\n",
    "plt.ylabel('inertia')\n",
    "plt.xticks(range(2, 10))\n",
    "plt.grid()"
   ]
  },
  {
   "cell_type": "code",
   "execution_count": null,
   "id": "57cfa542",
   "metadata": {},
   "outputs": [],
   "source": [
    "train_scaled.columns"
   ]
  },
  {
   "cell_type": "code",
   "execution_count": null,
   "id": "de64b1ef",
   "metadata": {},
   "outputs": [],
   "source": [
    "train_scaled.isna().sum()"
   ]
  },
  {
   "cell_type": "code",
   "execution_count": null,
   "id": "0c818da6",
   "metadata": {},
   "outputs": [],
   "source": [
    "# Fit K-Means\n",
    "X = train_scaled[['bathrooms', 'bedrooms', 'area', 'zipcode', 'lot_area']]\n",
    "kmeans = KMeans(n_clusters=3)\n",
    "kmeans.fit(X)\n",
    "\n",
    "train_scaled['cluster'] = kmeans.labels_\n",
    "\n",
    "# visualize w/ hue=\"logerror\" style=\"cluster\"\n",
    "sns.relplot(x=\"large_home\", y=\"lot_area\", hue=\"logerror\", col=\"cluster\", col_wrap=3,palette = \"Purples\", data=train_scaled)\n"
   ]
  },
  {
   "cell_type": "code",
   "execution_count": null,
   "id": "dbe7fe09",
   "metadata": {},
   "outputs": [],
   "source": []
  },
  {
   "cell_type": "code",
   "execution_count": null,
   "id": "74e9f8c6",
   "metadata": {},
   "outputs": [],
   "source": [
    "######################################## Modeling #######################################"
   ]
  },
  {
   "cell_type": "code",
   "execution_count": null,
   "id": "df650ef9",
   "metadata": {},
   "outputs": [],
   "source": [
    "# create kmeans, fit and predict\n",
    "kmeans = KMeans(n_clusters=3)\n",
    "kmeans.fit(X)\n",
    "\n",
    "kmeans.predict(X)"
   ]
  },
  {
   "cell_type": "code",
   "execution_count": null,
   "id": "83847fc0",
   "metadata": {},
   "outputs": [],
   "source": [
    "# add this as a column to train\n",
    "train['cluster'] = kmeans.predict(X)"
   ]
  },
  {
   "cell_type": "code",
   "execution_count": null,
   "id": "c4e7b3a7",
   "metadata": {},
   "outputs": [],
   "source": [
    "# distances from the center of each cluster\n",
    "kmeans.cluster_centers_"
   ]
  },
  {
   "cell_type": "code",
   "execution_count": null,
   "id": "eb2108e8",
   "metadata": {},
   "outputs": [],
   "source": [
    "# putting them into a df with labels\n",
    "centroids = pd.DataFrame(kmeans.cluster_centers_, columns=X.columns)\n",
    "centroids"
   ]
  },
  {
   "cell_type": "code",
   "execution_count": null,
   "id": "0f438c25",
   "metadata": {},
   "outputs": [],
   "source": [
    "# plt.figure(figsize=(14, 9))\n",
    "\n",
    "# for cluster, subset in iris.groupby('cluster'):\n",
    "#     plt.scatter(subset.area, subset.petal_length, label='cluster ' + str(cluster), alpha=.6)\n",
    "\n",
    "# centroids.plot.scatter(y='petal_length', x='sepal_length', c='black', marker='x', s=1000, ax=plt.gca(), label='centroid')\n",
    "\n",
    "# plt.legend()\n",
    "# plt.xlabel('sepal_length')\n",
    "# plt.ylabel('petal_length')\n",
    "# plt.title('Visualizing Cluster Centers')"
   ]
  },
  {
   "cell_type": "markdown",
   "id": "e287c6a7",
   "metadata": {},
   "source": [
    "#### move\n",
    "####### Explore takeaway\n",
    "❗ Initial Takeaways\n",
    "Despite being able to reject the null hypotheses, the strength of the correlations are nearly zero for the strongest two negative and two positive relationships. Looking at the regression line on the plots, it looks like an almost flat line. They may have a statistically evident relationship, but the strength of that relationship provides little insight and suggests any individual variable would be unlikely to be a strong driver."
   ]
  },
  {
   "cell_type": "markdown",
   "id": "f8935326",
   "metadata": {},
   "source": [
    "#### move\n",
    "Exploration of Clusters\n",
    "In this section, several clusters are created to try and discern potential groupings with significantly difference variances in log_error between those populations. The number of clusters was determined using the elbow plot method to find when change in inertia to $k$ has dropped relative to lower $k$ values. Using analysis of variance (ANOVA) test, those clusters that can reject the respective null hypothesis will be carried into potential model features."
   ]
  },
  {
   "cell_type": "markdown",
   "id": "67cec4a1",
   "metadata": {},
   "source": [
    "In order to find best performing models, recursive feature elimination (RFE) and SelectKBest were utilized to find recommended features. In this notebook, the best four performing models were brought in to demonstrate to process of creation, and of the twelve models created to finds drivers of log_error, these four all utilized feature engineering functions to select. For additional insight into this and remaining phases, please see the modeling.ipynb notebook."
   ]
  },
  {
   "cell_type": "code",
   "execution_count": null,
   "id": "7fa44bde",
   "metadata": {},
   "outputs": [],
   "source": [
    "# Using RFE and SelectKBest to recommend features"
   ]
  },
  {
   "cell_type": "code",
   "execution_count": null,
   "id": "2789f8aa",
   "metadata": {},
   "outputs": [],
   "source": [
    "X_train.head()"
   ]
  },
  {
   "cell_type": "code",
   "execution_count": null,
   "id": "c65ae3ba",
   "metadata": {},
   "outputs": [],
   "source": []
  },
  {
   "cell_type": "code",
   "execution_count": null,
   "id": "bd8deb9e",
   "metadata": {},
   "outputs": [],
   "source": [
    "# I want to know which are the best features to model on \n",
    "model = LinearRegression()\n",
    "\n",
    "#Initializing RFE model, with parameter to select top 3 features. \n",
    "rfe = RFE(model, 3)\n",
    "\n",
    "#Transforming data using RFE\n",
    "X_rfe = rfe.fit_transform(X_train,y_train)  \n",
    "\n",
    "#Fitting the data to model\n",
    "model.fit(X_rfe,y_train)\n",
    "\n",
    "print(rfe.support_)\n",
    "print(rfe.ranking_)"
   ]
  },
  {
   "cell_type": "code",
   "execution_count": null,
   "id": "c7f2d082",
   "metadata": {},
   "outputs": [],
   "source": [
    "# the above tells me bathrooms, bedrooms, and large_home are the best candidates"
   ]
  },
  {
   "cell_type": "code",
   "execution_count": null,
   "id": "372b816f",
   "metadata": {},
   "outputs": [],
   "source": [
    "# choosing my features for model 1\n",
    "X_scaled = train_scaled[['lot_area','bathrooms','bedrooms']]"
   ]
  },
  {
   "cell_type": "code",
   "execution_count": null,
   "id": "05d7452b",
   "metadata": {},
   "outputs": [],
   "source": [
    "mean = y_train['logerror'].mean()\n",
    "y_train[\"logerror_pred_mean\"] = mean\n",
    "\n",
    "rmse_baseline = mean_squared_error(y_train.logerror, y_train.logerror_pred_mean) ** .5\n",
    "\n",
    "rmse_baseline"
   ]
  },
  {
   "cell_type": "code",
   "execution_count": null,
   "id": "f8b02c63",
   "metadata": {},
   "outputs": [],
   "source": [
    "X_train.head()"
   ]
  },
  {
   "cell_type": "code",
   "execution_count": null,
   "id": "7ee847e7",
   "metadata": {},
   "outputs": [],
   "source": [
    "y_train.head()"
   ]
  },
  {
   "cell_type": "code",
   "execution_count": null,
   "id": "6702faa4",
   "metadata": {},
   "outputs": [],
   "source": [
    "X_train.head()"
   ]
  },
  {
   "cell_type": "code",
   "execution_count": null,
   "id": "a380e521",
   "metadata": {},
   "outputs": [],
   "source": [
    "X_train_scaled = train_scaled.drop(columns='logerror')\n",
    "X_validate_scaled = validate_scaled.drop(columns='logerror')\n",
    "X_test_scaled = test_scaled.drop(columns='logerror')"
   ]
  },
  {
   "cell_type": "code",
   "execution_count": null,
   "id": "e4b5796a",
   "metadata": {},
   "outputs": [],
   "source": [
    "X_scaled.head()"
   ]
  },
  {
   "cell_type": "code",
   "execution_count": null,
   "id": "20598dab",
   "metadata": {},
   "outputs": [],
   "source": [
    "# Setting X to the 2 features that were rec. and one from my hypothesis\n",
    "X_train = X_scaled[['lot_area','bathrooms','bedrooms']]\n",
    "X_validate = X_validate_scaled[['lot_area','bathrooms','bedrooms']]\n",
    "X_test = X_test_scaled[['lot_area','bathrooms','bedrooms']]"
   ]
  },
  {
   "cell_type": "code",
   "execution_count": null,
   "id": "77ff7500",
   "metadata": {},
   "outputs": [],
   "source": [
    "y_train.head()"
   ]
  },
  {
   "cell_type": "code",
   "execution_count": null,
   "id": "91d92a85",
   "metadata": {},
   "outputs": [],
   "source": [
    "plt.hist(y_train)\n",
    "plt.xlabel(\"Logerror)\")\n",
    "plt.ylabel(\"Number of Homes\")\n",
    "plt.show()"
   ]
  },
  {
   "cell_type": "code",
   "execution_count": null,
   "id": "8a3f547e",
   "metadata": {},
   "outputs": [],
   "source": [
    "# We need y_train and y_validate to be dataframes to append the new columns with predicted values. \n",
    "y_train = pd.DataFrame(y_train)\n",
    "y_validate = pd.DataFrame(y_validate)\n",
    "\n",
    "# 1. Predict logerror_pred_mean\n",
    "logerror_pred_mean = y_train['logerror'].mean()\n",
    "y_train['logerror_pred_mean'] = logerror_pred_mean\n",
    "y_validate['logerror_pred_mean'] = logerror_pred_mean\n",
    "\n",
    "# 2. compute logerror_pred_median\n",
    "logerror_pred_median = y_train['logerror'].median()\n",
    "y_train['logerror_pred_median'] = logerror_pred_median\n",
    "y_validate['logerror_pred_median'] = logerror_pred_median\n",
    "\n",
    "# 3. RMSE of logerror_pred_mean\n",
    "rmse_train = mean_squared_error(y_train.logerror, y_train.logerror_pred_mean)**(1/2)\n",
    "rmse_validate = mean_squared_error(y_validate.logerror, y_validate.logerror_pred_mean)**(1/2)\n",
    "\n",
    "print(\"RMSE using Mean\\nTrain/In-Sample: \", round(rmse_train, 2), \n",
    "      \"\\nValidate/Out-of-Sample: \", round(rmse_validate, 2))\n",
    "\n",
    "# 4. RMSE of logerror_pred_median\n",
    "rmse_train = mean_squared_error(y_train.logerror, y_train.logerror_pred_median)**(1/2)\n",
    "rmse_validate = mean_squared_error(y_validate.logerror, y_validate.logerror_pred_median)**(1/2)\n",
    "\n",
    "print(\"RMSE using Median\\nTrain/In-Sample: \", round(rmse_train, 2), \n",
    "      \"\\nValidate/Out-of-Sample: \", round(rmse_validate, 2))"
   ]
  },
  {
   "cell_type": "code",
   "execution_count": null,
   "id": "7e774c4f",
   "metadata": {},
   "outputs": [],
   "source": [
    ".17 - rmse_baseline"
   ]
  },
  {
   "cell_type": "code",
   "execution_count": null,
   "id": "74d7ef2d",
   "metadata": {},
   "outputs": [],
   "source": [
    "# plot to visualize actual vs predicted. \n",
    "plt.hist(y_train.logerror, color='blue', alpha=.5, label=\"Actual Logerror\")\n",
    "plt.hist(y_train.logerror_pred_mean, bins=1, color='red', alpha=.5, rwidth=100, label=\"Predicted Logerror - Mean\")\n",
    "plt.hist(y_train.logerror_pred_median, bins=1, color='orange', alpha=.5, rwidth=100, label=\"Predicted Logerror - Median\")\n",
    "plt.xlabel(\"Logerror)\")\n",
    "plt.ylabel(\"Number of Homes\")\n",
    "plt.legend()\n",
    "plt.show()"
   ]
  },
  {
   "cell_type": "code",
   "execution_count": null,
   "id": "fabf110b",
   "metadata": {},
   "outputs": [],
   "source": [
    "X_train.head"
   ]
  },
  {
   "cell_type": "code",
   "execution_count": null,
   "id": "eda445f6",
   "metadata": {},
   "outputs": [],
   "source": [
    "y_test = pd.DataFrame(y_test)"
   ]
  },
  {
   "cell_type": "code",
   "execution_count": null,
   "id": "4e09ba82",
   "metadata": {},
   "outputs": [],
   "source": [
    "y_test.head()"
   ]
  },
  {
   "cell_type": "code",
   "execution_count": null,
   "id": "9e1ef3dd",
   "metadata": {},
   "outputs": [],
   "source": [
    "# create the model object\n",
    "lm = LinearRegression(normalize=True)\n",
    "\n",
    "# fit the model to our training data. We must specify the column in y_train, \n",
    "# since we have converted it to a dataframe from a series! \n",
    "lm.fit(X_train, y_train.logerror)\n",
    "\n",
    "# predict train\n",
    "y_train['logerror_pred_lm'] = lm.predict(X_train)\n",
    "\n",
    "# evaluate: rmse\n",
    "rmse_train = mean_squared_error(y_train.logerror, y_train.logerror_pred_lm)**(1/2)\n",
    "\n",
    "# predict validate\n",
    "y_validate['logerror_pred_lm'] = lm.predict(X_validate)\n",
    "\n",
    "# evaluate: rmse\n",
    "rmse_validate = mean_squared_error(y_validate.logerror, y_validate.logerror_pred_lm)**(1/2)\n",
    "# # evaluate on test\n",
    "# y_test['logerror_pred_lm'] = lm.predict(X_test)\n",
    "\n",
    "# rmse_test = mean_squared_error(y_test.logerror, y_test.logerror_pred_lm)**(1/2)\n",
    " \n",
    "\n",
    "print(\"RMSE for OLS using LinearRegression\\nTraining/In-Sample: \", rmse_train, \n",
    "      \"\\nValidation/Out-of-Sample: \", rmse_validate #rmse_test)"
   ]
  },
  {
   "cell_type": "code",
   "execution_count": null,
   "id": "f7faa644",
   "metadata": {},
   "outputs": [],
   "source": [
    "# make the polynomial features to get a new set of features\n",
    "pf = PolynomialFeatures(degree=2)\n",
    "\n",
    "# fit and transform X_train_scaled\n",
    "X_train_degree2 = pf.fit_transform(X_train)\n",
    "\n",
    "# transform X_validate_scaled & X_test_scaled\n",
    "X_validate_degree2 = pf.transform(X_validate)\n",
    "X_test_degree2 = pf.transform(X_test)"
   ]
  },
  {
   "cell_type": "code",
   "execution_count": null,
   "id": "3da05ba7",
   "metadata": {},
   "outputs": [],
   "source": [
    "# create the model object\n",
    "lm2 = LinearRegression(normalize=True)\n",
    "\n",
    "# fit the model to our training data. We must specify the column in y_train, \n",
    "# since we have converted it to a dataframe from a series! \n",
    "lm2.fit(X_train_degree2, y_train.logerror)\n",
    "\n",
    "# predict train\n",
    "y_train['logerror_pred_lm2'] = lm2.predict(X_train_degree2)\n",
    "\n",
    "# evaluate: rmse\n",
    "rmse_train = mean_squared_error(y_train.logerror, y_train.logerror_pred_lm2)**(1/2)\n",
    "\n",
    "# predict validate\n",
    "y_validate['logerror_pred_lm2'] = lm2.predict(X_validate_degree2)\n",
    "\n",
    "# evaluate: rmse\n",
    "rmse_validate = mean_squared_error(y_validate.logerror, y_validate.logerror_pred_lm2)**(1/2)\n",
    "\n",
    "print(\"RMSE for Polynomial Model, degrees=2\\nTraining/In-Sample: \", rmse_train, \n",
    "      \"\\nValidation/Out-of-Sample: \", rmse_validate)"
   ]
  },
  {
   "cell_type": "code",
   "execution_count": null,
   "id": "266ce86d",
   "metadata": {},
   "outputs": [],
   "source": [
    "# need to run test on polynomial the best performing model"
   ]
  },
  {
   "cell_type": "code",
   "execution_count": null,
   "id": "d4ef8f47",
   "metadata": {},
   "outputs": [],
   "source": [
    "plt.figure(figsize=(10,8))\n",
    "plt.plot(y_validate.logerror, y_validate.logerror_pred_mean, alpha=.5, color=\"gray\", label='_nolegend_')\n",
    "plt.annotate(\"Baseline: Predict Using Mean\", (16, 9.5))\n",
    "plt.plot(y_validate.logerror, y_validate.logerror, alpha=.5, color=\"blue\", label='_nolegend_')\n",
    "plt.annotate(\"The Ideal Line: Predicted = Actual\", (.5, 3.5), rotation=15.5)\n",
    "\n",
    "plt.scatter(y_validate.logerror, y_validate.logerror_pred_lm, \n",
    "            alpha=.5, color=\"red\", s=100, label=\"Model: LinearRegression\")\n",
    "# plt.scatter(y_validate.logerror, y_validate.logerror_pred_glm, \n",
    "#             alpha=.5, color=\"yellow\", s=100, label=\"Model: TweedieRegressor\")\n",
    "plt.scatter(y_validate.logerror, y_validate.logerror_pred_lm2, \n",
    "            alpha=.5, color=\"green\", s=100, label=\"Model 2nd degree Polynomial\")\n",
    "plt.legend()\n",
    "plt.xlabel(\"Actual Logerror\")\n",
    "plt.ylabel(\"Predicted Logerror\")\n",
    "plt.title(\"Where are predictions more extreme? More modest?\")\n",
    "# plt.annotate(\"The polynomial model appears to overreact to noise\", (2.0, -10))\n",
    "# plt.annotate(\"The OLS model (LinearRegression)\\n appears to be most consistent\", (15.5, 3))\n",
    "plt.show()"
   ]
  },
  {
   "cell_type": "code",
   "execution_count": null,
   "id": "455d70da",
   "metadata": {},
   "outputs": [],
   "source": [
    "#Residual Plots: Plotting the Errors in Predictions\n",
    "\n",
    "# y_validate.head()\n",
    "plt.figure(figsize=(16,8))\n",
    "plt.axhline(label=\"No Error\")\n",
    "plt.scatter(y_validate.logerror, y_validate.logerror_pred_lm-y_validate.logerror, \n",
    "            alpha=.5, color=\"red\", s=100, label=\"Model: LinearRegression\")\n",
    "# plt.scatter(y_validate.G3, y_validate.G3_pred_glm-y_validate.G3, \n",
    "#             alpha=.5, color=\"yellow\", s=100, label=\"Model: TweedieRegressor\")\n",
    "plt.scatter(y_validate.logerror, y_validate.logerror_pred_lm2-y_validate.logerror, \n",
    "            alpha=.5, color=\"green\", s=100, label=\"Model 2nd degree Polynomial\")\n",
    "plt.legend()\n",
    "plt.xlabel(\"Actual Logerror\")\n",
    "plt.ylabel(\"Residual/Error: Predicted Logerror - Actual Logerror\")\n",
    "plt.title(\"Do the size of errors change as the actual value changes?\")\n",
    "plt.annotate(\"The polynomial model appears to overreact to noise\", (2.0, -10))\n",
    "plt.annotate(\"The OLS model (LinearRegression)\\n appears to be most consistent\", (15.5, 3))\n",
    "plt.show()"
   ]
  },
  {
   "cell_type": "code",
   "execution_count": null,
   "id": "c6b41b9a",
   "metadata": {},
   "outputs": [],
   "source": []
  },
  {
   "cell_type": "code",
   "execution_count": null,
   "id": "bd30e2ed",
   "metadata": {},
   "outputs": [],
   "source": []
  },
  {
   "cell_type": "code",
   "execution_count": null,
   "id": "8af6f774",
   "metadata": {},
   "outputs": [],
   "source": []
  },
  {
   "cell_type": "code",
   "execution_count": null,
   "id": "f9ea5c58",
   "metadata": {},
   "outputs": [],
   "source": []
  },
  {
   "cell_type": "code",
   "execution_count": null,
   "id": "7179abf4",
   "metadata": {},
   "outputs": [],
   "source": []
  }
 ],
 "metadata": {
  "kernelspec": {
   "display_name": "Python 3",
   "language": "python",
   "name": "python3"
  },
  "language_info": {
   "codemirror_mode": {
    "name": "ipython",
    "version": 3
   },
   "file_extension": ".py",
   "mimetype": "text/x-python",
   "name": "python",
   "nbconvert_exporter": "python",
   "pygments_lexer": "ipython3",
   "version": "3.8.8"
  }
 },
 "nbformat": 4,
 "nbformat_minor": 5
}
